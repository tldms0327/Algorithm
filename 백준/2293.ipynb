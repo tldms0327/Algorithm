{
 "cells": [
  {
   "cell_type": "code",
   "execution_count": 33,
   "id": "occupied-section",
   "metadata": {},
   "outputs": [
    {
     "name": "stdout",
     "output_type": "stream",
     "text": [
      "10\n"
     ]
    }
   ],
   "source": [
    "from itertools import product as pro\n",
    "import sys\n",
    " \n",
    "\n",
    "\n",
    "def solution(n, k, lst):\n",
    "    case = []\n",
    "    answer = [0 for x in range(k+1)]\n",
    "    answer[0] = 1\n",
    "    \n",
    "    for i in lst:\n",
    "        for j in range(i, k+1):\n",
    "            answer[j] += answer[j-i]\n",
    "            \n",
    "    return answer[k]\n",
    "\n",
    "print(solution(3, 10, [1,2,5]))\n",
    "\n",
    "\n",
    "# n, k = list(map(int, sys.stdin.readline().split()))\n",
    "# lst = []\n",
    "# for i in range(n):\n",
    "#     temp = int(sys.stdin.readline())\n",
    "#     lst.append(temp)\n",
    "\n",
    "# solution(n, k, lst)"
   ]
  },
  {
   "cell_type": "code",
   "execution_count": null,
   "id": "ecological-beverage",
   "metadata": {},
   "outputs": [],
   "source": []
  },
  {
   "cell_type": "code",
   "execution_count": 7,
   "id": "threatened-inspector",
   "metadata": {},
   "outputs": [
    {
     "data": {
      "text/plain": [
       "['3 10', '1', '2', '5']"
      ]
     },
     "execution_count": 7,
     "metadata": {},
     "output_type": "execute_result"
    }
   ],
   "source": [
    "inputs = \"3 10\\n1\\n2\\n5\"\n",
    "inputs.split(\"\\n\")"
   ]
  },
  {
   "cell_type": "code",
   "execution_count": null,
   "id": "rising-trick",
   "metadata": {},
   "outputs": [],
   "source": []
  }
 ],
 "metadata": {
  "kernelspec": {
   "display_name": "Python 3",
   "language": "python",
   "name": "python3"
  },
  "language_info": {
   "codemirror_mode": {
    "name": "ipython",
    "version": 3
   },
   "file_extension": ".py",
   "mimetype": "text/x-python",
   "name": "python",
   "nbconvert_exporter": "python",
   "pygments_lexer": "ipython3",
   "version": "3.8.2"
  }
 },
 "nbformat": 4,
 "nbformat_minor": 5
}
