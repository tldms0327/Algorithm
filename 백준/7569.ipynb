{
 "cells": [
  {
   "cell_type": "markdown",
   "id": "working-polish",
   "metadata": {},
   "source": [
    "### 토마토\n",
    "\n",
    "\n",
    "철수의 토마토 농장에서는 토마토를 보관하는 큰 창고를 가지고 있다. 토마토는 아래의 그림과 같이 격자모양 상자의 칸에 하나씩 넣은 다음, 상자들을 수직으로 쌓아 올려서 창고에 보관한다.\n",
    "\n",
    "\n",
    "\n",
    "창고에 보관되는 토마토들 중에는 잘 익은 것도 있지만, 아직 익지 않은 토마토들도 있을 수 있다. 보관 후 하루가 지나면, 익은 토마토들의 인접한 곳에 있는 익지 않은 토마토들은 익은 토마토의 영향을 받아 익게 된다. 하나의 토마토에 인접한 곳은 위, 아래, 왼쪽, 오른쪽, 앞, 뒤 여섯 방향에 있는 토마토를 의미한다. 대각선 방향에 있는 토마토들에게는 영향을 주지 못하며, 토마토가 혼자 저절로 익는 경우는 없다고 가정한다. 철수는 창고에 보관된 토마토들이 며칠이 지나면 다 익게 되는지 그 최소 일수를 알고 싶어 한다.\n",
    "\n",
    "토마토를 창고에 보관하는 격자모양의 상자들의 크기와 익은 토마토들과 익지 않은 토마토들의 정보가 주어졌을 때, 며칠이 지나면 토마토들이 모두 익는지, 그 최소 일수를 구하는 프로그램을 작성하라. 단, 상자의 일부 칸에는 토마토가 들어있지 않을 수도 있다.\n",
    "\n",
    "- 입력\n",
    "\n",
    "첫 줄에는 상자의 크기를 나타내는 두 정수 M,N과 쌓아올려지는 상자의 수를 나타내는 H가 주어진다. M은 상자의 가로 칸의 수, N은 상자의 세로 칸의 수를 나타낸다. 단, 2 ≤ M ≤ 100, 2 ≤ N ≤ 100, 1 ≤ H ≤ 100 이다. 둘째 줄부터는 가장 밑의 상자부터 가장 위의 상자까지에 저장된 토마토들의 정보가 주어진다. 즉, 둘째 줄부터 N개의 줄에는 하나의 상자에 담긴 토마토의 정보가 주어진다. 각 줄에는 상자 가로줄에 들어있는 토마토들의 상태가 M개의 정수로 주어진다. 정수 1은 익은 토마토, 정수 0 은 익지 않은 토마토, 정수 -1은 토마토가 들어있지 않은 칸을 나타낸다. 이러한 N개의 줄이 H번 반복하여 주어진다.\n",
    "\n",
    "토마토가 하나 이상 있는 경우만 입력으로 주어진다.\n",
    "\n",
    "- 출력\n",
    "\n",
    "여러분은 토마토가 모두 익을 때까지 최소 며칠이 걸리는지를 계산해서 출력해야 한다. 만약, 저장될 때부터 모든 토마토가 익어있는 상태이면 0을 출력해야 하고, 토마토가 모두 익지는 못하는 상황이면 -1을 출력해야 한다."
   ]
  },
  {
   "cell_type": "code",
   "execution_count": 41,
   "id": "professional-piano",
   "metadata": {},
   "outputs": [],
   "source": [
    "def sol(m, n, h, box):\n",
    "    # m:가로, n: 세로, h: 높이, grid[h][]\n",
    "    visited = set()\n",
    "    day = 0\n",
    "    count = 0\n",
    "    for z in range(h):\n",
    "        for y in range(n):\n",
    "            for x in range(m):\n",
    "                if box[z][y][x] == 1:\n",
    "                    visited.add((z, y, x))\n",
    "                    count += 1\n",
    "\n",
    "                elif box[z][y][x] == -1:\n",
    "                    count += 1\n",
    "\n",
    "    if len(visited) == 0:\n",
    "        return -1\n",
    "\n",
    "    while count < m * n * h:\n",
    "        visited_add = set()\n",
    "        for v in visited:\n",
    "            z, y, x = v[0], v[1], v[2]\n",
    "            if x >= 1 and box[z][y][x - 1] == 0:\n",
    "                box[z][y][x - 1] = 1\n",
    "                visited_add.add((z, y, x - 1))\n",
    "            if x < m - 1 and box[z][y][x + 1] == 0:\n",
    "                box[z][y][x + 1] = 1\n",
    "                visited_add.add((z, y, x + 1))\n",
    "            if y >= 1 and box[z][y - 1][x] == 0:\n",
    "                box[z][y - 1][x] = 1\n",
    "                visited_add.add((z, y - 1, x))\n",
    "            if y < n - 1 and box[z][y + 1][x] == 0:\n",
    "                box[z][y + 1][x] = 1\n",
    "                visited_add.add((z, y + 1, x))\n",
    "            if z >= 1 and box[z - 1][y][x] == 0:\n",
    "                box[z - 1][y][x] = 1\n",
    "                visited_add.add((z - 1, y, x))\n",
    "            if z < h - 1 and box[z + 1][y][x] == 0:\n",
    "                box[z + 1][y][x] = 1\n",
    "                visited_add.add((z + 1, y, x))\n",
    "\n",
    "        if len(visited_add) == 0:\n",
    "            day = -1\n",
    "            break\n",
    "        count += len(visited_add)\n",
    "        visited = visited_add\n",
    "        day += 1\n",
    "        print(visited)\n",
    "\n",
    "    return day"
   ]
  },
  {
   "cell_type": "code",
   "execution_count": 47,
   "id": "fabulous-romantic",
   "metadata": {},
   "outputs": [
    {
     "data": {
      "text/plain": [
       "0"
      ]
     },
     "execution_count": 47,
     "metadata": {},
     "output_type": "execute_result"
    }
   ],
   "source": [
    "sol(m,n,h,grid)"
   ]
  },
  {
   "cell_type": "code",
   "execution_count": 46,
   "id": "flexible-murder",
   "metadata": {},
   "outputs": [],
   "source": [
    "m=4\n",
    "n=3\n",
    "h=2\n",
    "grid = [[[1,1,1,1], [1,1,1,1],[1,1,1,1]], [[1,1,1,1], [-1,-1,-1,-1], [1,1,1,-1]]]"
   ]
  },
  {
   "cell_type": "code",
   "execution_count": null,
   "id": "touched-david",
   "metadata": {},
   "outputs": [],
   "source": []
  },
  {
   "cell_type": "code",
   "execution_count": 39,
   "id": "atlantic-reporter",
   "metadata": {},
   "outputs": [
    {
     "ename": "NameError",
     "evalue": "name 'sys' is not defined",
     "output_type": "error",
     "traceback": [
      "\u001b[0;31m---------------------------------------------------------------------------\u001b[0m",
      "\u001b[0;31mNameError\u001b[0m                                 Traceback (most recent call last)",
      "\u001b[0;32m<ipython-input-39-d4077d6ffcd9>\u001b[0m in \u001b[0;36m<module>\u001b[0;34m\u001b[0m\n\u001b[0;32m----> 1\u001b[0;31m \u001b[0mm\u001b[0m\u001b[0;34m,\u001b[0m \u001b[0mn\u001b[0m\u001b[0;34m,\u001b[0m \u001b[0mk\u001b[0m \u001b[0;34m=\u001b[0m \u001b[0mlist\u001b[0m\u001b[0;34m(\u001b[0m\u001b[0mmap\u001b[0m\u001b[0;34m(\u001b[0m\u001b[0mint\u001b[0m\u001b[0;34m,\u001b[0m \u001b[0msys\u001b[0m\u001b[0;34m.\u001b[0m\u001b[0mstdin\u001b[0m\u001b[0;34m.\u001b[0m\u001b[0mreadline\u001b[0m\u001b[0;34m(\u001b[0m\u001b[0;34m)\u001b[0m\u001b[0;34m.\u001b[0m\u001b[0msplit\u001b[0m\u001b[0;34m(\u001b[0m\u001b[0;34m)\u001b[0m\u001b[0;34m)\u001b[0m\u001b[0;34m)\u001b[0m\u001b[0;34m\u001b[0m\u001b[0;34m\u001b[0m\u001b[0m\n\u001b[0m\u001b[1;32m      2\u001b[0m \u001b[0mbox\u001b[0m \u001b[0;34m=\u001b[0m \u001b[0;34m[\u001b[0m\u001b[0;34m]\u001b[0m\u001b[0;34m\u001b[0m\u001b[0;34m\u001b[0m\u001b[0m\n\u001b[1;32m      3\u001b[0m \u001b[0mgrid\u001b[0m \u001b[0;34m=\u001b[0m \u001b[0;34m[\u001b[0m\u001b[0;34m]\u001b[0m\u001b[0;34m\u001b[0m\u001b[0;34m\u001b[0m\u001b[0m\n\u001b[1;32m      4\u001b[0m \u001b[0;32mfor\u001b[0m \u001b[0mi\u001b[0m \u001b[0;32min\u001b[0m \u001b[0mrange\u001b[0m\u001b[0;34m(\u001b[0m\u001b[0mh\u001b[0m\u001b[0;34m)\u001b[0m\u001b[0;34m:\u001b[0m\u001b[0;34m\u001b[0m\u001b[0;34m\u001b[0m\u001b[0m\n\u001b[1;32m      5\u001b[0m     \u001b[0;32mfor\u001b[0m \u001b[0mi\u001b[0m \u001b[0;32min\u001b[0m \u001b[0mrange\u001b[0m\u001b[0;34m(\u001b[0m\u001b[0mn\u001b[0m\u001b[0;34m)\u001b[0m\u001b[0;34m:\u001b[0m\u001b[0;34m\u001b[0m\u001b[0;34m\u001b[0m\u001b[0m\n",
      "\u001b[0;31mNameError\u001b[0m: name 'sys' is not defined"
     ]
    }
   ],
   "source": [
    "m, n, k = list(map(int, sys.stdin.readline().split()))\n",
    "box = []\n",
    "grid = []\n",
    "for i in range(h):\n",
    "    for i in range(n):\n",
    "        temp = list(map(int, sys.stdin.readline().split()))\n",
    "        grid.append(temp)\n",
    "    box.append(grid)\n",
    "    grid = []\n",
    "\n",
    "solution(m, n, k, lst)"
   ]
  },
  {
   "cell_type": "code",
   "execution_count": 45,
   "id": "flush-retrieval",
   "metadata": {},
   "outputs": [
    {
     "data": {
      "text/plain": [
       "{(2, 1)}"
      ]
     },
     "execution_count": 45,
     "metadata": {},
     "output_type": "execute_result"
    }
   ],
   "source": [
    "a = set()\n",
    "a.add((2,1))\n",
    "a.add((2,1))\n",
    "a"
   ]
  },
  {
   "cell_type": "code",
   "execution_count": null,
   "id": "promising-flesh",
   "metadata": {},
   "outputs": [],
   "source": []
  },
  {
   "cell_type": "code",
   "execution_count": null,
   "id": "surprising-armor",
   "metadata": {},
   "outputs": [],
   "source": []
  }
 ],
 "metadata": {
  "kernelspec": {
   "display_name": "Python 3",
   "language": "python",
   "name": "python3"
  },
  "language_info": {
   "codemirror_mode": {
    "name": "ipython",
    "version": 3
   },
   "file_extension": ".py",
   "mimetype": "text/x-python",
   "name": "python",
   "nbconvert_exporter": "python",
   "pygments_lexer": "ipython3",
   "version": "3.8.2"
  }
 },
 "nbformat": 4,
 "nbformat_minor": 5
}
