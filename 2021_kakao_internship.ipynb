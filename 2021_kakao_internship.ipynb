{
 "cells": [
  {
   "cell_type": "code",
   "execution_count": 7,
   "id": "gothic-equivalent",
   "metadata": {},
   "outputs": [],
   "source": [
    "def solution(s):\n",
    "    mapping = {'zero':0, 'one':1, 'two':2, 'three':3, 'four': 4, 'five': 5, 'six': 6, 'seven':7, 'eight': 8, 'nine': 9}\n",
    "    \n",
    "    for k in mapping:\n",
    "        while k in s:\n",
    "            print(k, mapping[k])\n",
    "            s = s.replace(k, str(mapping[k]))\n",
    "            print(s)\n",
    "    \n",
    "    answer = int(s)\n",
    "    return answer"
   ]
  },
  {
   "cell_type": "code",
   "execution_count": 8,
   "id": "romantic-tackle",
   "metadata": {},
   "outputs": [
    {
     "name": "stdout",
     "output_type": "stream",
     "text": [
      "one 1\n",
      "14seveneight\n",
      "seven 7\n",
      "147eight\n",
      "eight 8\n",
      "1478\n"
     ]
    },
    {
     "data": {
      "text/plain": [
       "1478"
      ]
     },
     "execution_count": 8,
     "metadata": {},
     "output_type": "execute_result"
    }
   ],
   "source": [
    "solution(\"one4seveneight\")"
   ]
  },
  {
   "cell_type": "code",
   "execution_count": 146,
   "id": "distant-capitol",
   "metadata": {},
   "outputs": [],
   "source": [
    "def solution(places):\n",
    "    answer = []\n",
    "    for place in places:\n",
    "        Pass = 1\n",
    "        \n",
    "        ii = len(place[0]) # 가로길이\n",
    "        jj = len(place) # 세로길이\n",
    "        i, j = -1, -1 #가로, 세로\n",
    "        for i in range(ii):\n",
    "            if Pass == 0:\n",
    "                break\n",
    "            for j in range(jj):\n",
    "            \n",
    "                if place[j][i] != 'P':\n",
    "                    continue\n",
    "                else:\n",
    "                    if (j < jj-1 and place[j+1][i] == 'P') or (i < ii-1 and place[j][i+1] == 'P'):\n",
    "                        Pass = 0\n",
    "                    if j < jj-1 and i < ii-1 and place[j+1][i+1] == 'P':\n",
    "                        if place[j+1][i] != 'X' or place[j][i+1] != 'X':\n",
    "                            Pass = 0\n",
    "                            \n",
    "                    # 윗블럭, 옆블럭 검토\n",
    "                    if j <jj-1 and place[j+1][i] == 'O' :\n",
    "                        if j + 2 == jj - 1:\n",
    "                            continue\n",
    "                        else:\n",
    "                            if (j < jj-2 and place[j+2][i]) == 'P':\n",
    "                                Pass = 0\n",
    "                    if i <ii-1 and place[j][i+1] == 'O':\n",
    "                        if i + 2 ==  ii -1:\n",
    "                            continue\n",
    "                        else:\n",
    "                            if i < ii - 2 and place[j][i+2] == 'P':\n",
    "                                Pass = 0\n",
    "                    \n",
    "                    # 오른쪽 아래 블럭\n",
    "                    if j < jj-1 and i < ii-1 and place[j+1][i+1] == 'O':\n",
    "                        if i < ii -3 and place[j+1][i+2] == 'P':\n",
    "                            Pass = 0\n",
    "                        elif j < jj -3 and place[j+2][i+1] == 'P':\n",
    "                            Pass = 0\n",
    "                        elif i < ii - 3 and j < jj - 3 and place[j+2][i+2] == 'P':\n",
    "                            Pass = 0\n",
    "\n",
    "        if Pass:\n",
    "            if 'PP' in place[-1] or 'POP' in place[-1]:\n",
    "                Pass = 0\n",
    "            else:\n",
    "                x = ''.join([x[-1] for x in place])\n",
    "                if 'PP' in x or 'POP' in x:\n",
    "                    Pass = 0\n",
    "                    \n",
    "        answer.append(Pass)\n",
    "                            \n",
    "                    \n",
    "    return answer\n",
    "\n"
   ]
  },
  {
   "cell_type": "code",
   "execution_count": 150,
   "id": "applicable-suite",
   "metadata": {},
   "outputs": [
    {
     "data": {
      "text/plain": [
       "[0, 0]"
      ]
     },
     "execution_count": 150,
     "metadata": {},
     "output_type": "execute_result"
    }
   ],
   "source": [
    "\n",
    "places = [[\"OOOO\", \"OOOO\", \"OOOP\", \"OOOO\", \"OPOP\"],[\"PXPXP\", \"XPXPX\", \"PXPXP\", \"XPXPX\", \"PXPPP\"]]\n",
    "solution(places)"
   ]
  },
  {
   "cell_type": "code",
   "execution_count": 127,
   "id": "peaceful-exploration",
   "metadata": {},
   "outputs": [
    {
     "data": {
      "text/plain": [
       "[0, 0, 1, 1, 0]"
      ]
     },
     "execution_count": 127,
     "metadata": {},
     "output_type": "execute_result"
    }
   ],
   "source": [
    "solution(places)"
   ]
  },
  {
   "cell_type": "code",
   "execution_count": 159,
   "id": "laden-crazy",
   "metadata": {},
   "outputs": [
    {
     "data": {
      "text/plain": [
       "[1, 0, 1, 1, 1]"
      ]
     },
     "execution_count": 159,
     "metadata": {},
     "output_type": "execute_result"
    }
   ],
   "source": [
    "def solution(places):\n",
    "    answer = []\n",
    "    for place in places:\n",
    "        Pass = 1\n",
    "        for row in place:\n",
    "            if 'PP' in row or 'POP' in row:\n",
    "                Pass = 0\n",
    "                break\n",
    "        if Pass : \n",
    "            for i in range(len(place[0])):\n",
    "                x = ''.join([col[i] for col in place])\n",
    "                if 'PP' in x or 'POP' in x:\n",
    "                    Pass = 0\n",
    "                    break\n",
    "        if Pass:\n",
    "            for i in range(len(place) - 1):\n",
    "                for j in range(len(place[0]) - 1):\n",
    "                    if place[i][j] == 'P' and place[i+1][j+1] == 'P':\n",
    "                        if place[i+1][j] == 'O' or place[i][j+1] == 'O':\n",
    "                            Pass = 0\n",
    "        if Pass:\n",
    "            for i in range(len(place) -1 ):\n",
    "                for j in range(1, len(place[0])):\n",
    "                    if place[i][j] == 'P' and place[i+1][j-1] == 'P':\n",
    "                        if place[i+1][j] == 'O' or place[i][j-1] == 'O':\n",
    "                            Pass = 0\n",
    "        answer.append(Pass)\n",
    "    return answer\n",
    "\n",
    "places = [[\"POOOP\", \"OXXOX\", \"OPXPX\", \"OOXOX\", \"POXXP\"], [\"POOPX\", \"OXPXP\", \"PXXXO\", \"OXXXO\", \"OOOPP\"], [\"PXOPX\", \"OXOXP\", \"OXPXX\", \"OXXXP\", \"POOXX\"], [\"OOOXX\", \"XOOOX\", \"OOOXX\", \"OXOOX\", \"OOOOO\"], [\"PXPXP\", \"XPXPX\", \"PXPXP\", \"XPXPX\", \"PXPXP\"]]\n",
    "solution(places)"
   ]
  },
  {
   "cell_type": "code",
   "execution_count": null,
   "id": "composite-hundred",
   "metadata": {},
   "outputs": [],
   "source": []
  },
  {
   "cell_type": "code",
   "execution_count": 166,
   "id": "fifty-democracy",
   "metadata": {},
   "outputs": [],
   "source": [
    "from bisect import bisect_left\n",
    "import bisect\n",
    "import heapq as hq\n",
    "\n",
    "def solution(n, k, cmd):\n",
    "    deleted = []\n",
    "    arr = [i for i in range(n)]\n",
    "    cur = k\n",
    "    for c in cmd:\n",
    "        if c[0] == \"D\":\n",
    "            cur += int(c.split(\" \")[1])\n",
    "        elif c[0]== \"U\":\n",
    "            cur -= int(c.split(\" \")[1])\n",
    "            \n",
    "        elif c == \"C\":\n",
    "            deleted.append(arr[cur])\n",
    "            del arr[cur]\n",
    "            if cur == len(arr):\n",
    "                cur -= 1\n",
    "            \n",
    "        elif c == \"Z\":\n",
    "            num = deleted.pop()\n",
    "            bisect.insort(arr, num)\n",
    "            if num <= arr[cur]:\n",
    "                cur += 1\n",
    "\n",
    "    answer = ['O' for i in range(n)]\n",
    "    for d in deleted:\n",
    "        answer[d] = 'X'\n",
    "    answer = ''.join(answer)\n",
    "        \n",
    "                \n",
    "    return answer"
   ]
  },
  {
   "cell_type": "code",
   "execution_count": 177,
   "id": "random-mining",
   "metadata": {},
   "outputs": [
    {
     "data": {
      "text/plain": [
       "'OOXOXOOO'"
      ]
     },
     "execution_count": 177,
     "metadata": {},
     "output_type": "execute_result"
    }
   ],
   "source": [
    "solution(8, 2, [\"D 2\",\"C\",\"U 3\",\"C\",\"D 4\",\"C\",\"U 2\",\"Z\",\"Z\",\"U 1\",\"C\"]\t)"
   ]
  },
  {
   "cell_type": "code",
   "execution_count": 176,
   "id": "handled-patio",
   "metadata": {},
   "outputs": [],
   "source": [
    "from bisect import bisect_left\n",
    "import bisect\n",
    "\n",
    "def solution(n, k, cmd):\n",
    "    deleted = []\n",
    "    arr = [i for i in range(n)]\n",
    "    cur = k\n",
    "    for c in cmd:\n",
    "        if c == \"C\":\n",
    "            deleted.append(arr[cur])\n",
    "            del arr[cur]\n",
    "            \n",
    "            if cur == len(arr):\n",
    "                cur -= 1\n",
    "                \n",
    "        elif c == \"Z\":\n",
    "            num = deleted.pop()\n",
    "            bisect.insort(arr, num)\n",
    "            if num <= arr[cur]:\n",
    "                cur += 1\n",
    "                \n",
    "        elif c[0] == \"D\":\n",
    "            cur += int(c[2:])\n",
    "            \n",
    "        elif c[0]== \"U\":\n",
    "            cur -= int(c[2:])\n",
    "\n",
    "    answer = ['O' for i in range(n)]\n",
    "    for d in deleted:\n",
    "        answer[d] = 'X'\n",
    "        \n",
    "    answer = ''.join(answer)\n",
    "    \n",
    "#     answer = ''\n",
    "#     deleted = set(deleted)\n",
    "#     for i in range(n):\n",
    "#         if i not in deleted:\n",
    "#             answer += 'O'\n",
    "#         else:\n",
    "#             answer += 'X'\n",
    "                \n",
    "    return answer"
   ]
  },
  {
   "cell_type": "code",
   "execution_count": null,
   "id": "registered-stephen",
   "metadata": {},
   "outputs": [],
   "source": [
    "def solution(n, start, end, roads, traps):\n",
    "    answer = 0\n",
    "    return answer"
   ]
  },
  {
   "cell_type": "code",
   "execution_count": 173,
   "id": "ongoing-summary",
   "metadata": {},
   "outputs": [],
   "source": [
    "import heapq as hq\n",
    "x = [i for i in range(10)]\n",
    "h = hq.heapify(x)\n",
    "del x[2]"
   ]
  },
  {
   "cell_type": "code",
   "execution_count": 174,
   "id": "coastal-fourth",
   "metadata": {},
   "outputs": [
    {
     "ename": "TypeError",
     "evalue": "'NoneType' object is not subscriptable",
     "output_type": "error",
     "traceback": [
      "\u001b[0;31m---------------------------------------------------------------------------\u001b[0m",
      "\u001b[0;31mTypeError\u001b[0m                                 Traceback (most recent call last)",
      "\u001b[0;32m<ipython-input-174-cde7201ad4b2>\u001b[0m in \u001b[0;36m<module>\u001b[0;34m\u001b[0m\n\u001b[0;32m----> 1\u001b[0;31m \u001b[0mh\u001b[0m\u001b[0;34m[\u001b[0m\u001b[0;36m0\u001b[0m\u001b[0;34m]\u001b[0m\u001b[0;34m\u001b[0m\u001b[0;34m\u001b[0m\u001b[0m\n\u001b[0m",
      "\u001b[0;31mTypeError\u001b[0m: 'NoneType' object is not subscriptable"
     ]
    }
   ],
   "source": [
    "h[0]"
   ]
  },
  {
   "cell_type": "code",
   "execution_count": null,
   "id": "british-andrews",
   "metadata": {},
   "outputs": [],
   "source": []
  },
  {
   "cell_type": "code",
   "execution_count": null,
   "id": "awful-reality",
   "metadata": {},
   "outputs": [],
   "source": []
  },
  {
   "cell_type": "code",
   "execution_count": null,
   "id": "lightweight-addiction",
   "metadata": {},
   "outputs": [],
   "source": []
  },
  {
   "cell_type": "code",
   "execution_count": null,
   "id": "talented-classic",
   "metadata": {},
   "outputs": [],
   "source": []
  },
  {
   "cell_type": "code",
   "execution_count": null,
   "id": "israeli-italian",
   "metadata": {},
   "outputs": [],
   "source": []
  },
  {
   "cell_type": "code",
   "execution_count": null,
   "id": "civilian-edgar",
   "metadata": {},
   "outputs": [],
   "source": []
  },
  {
   "cell_type": "code",
   "execution_count": null,
   "id": "injured-indianapolis",
   "metadata": {},
   "outputs": [],
   "source": []
  },
  {
   "cell_type": "code",
   "execution_count": null,
   "id": "charitable-phrase",
   "metadata": {},
   "outputs": [],
   "source": []
  },
  {
   "cell_type": "code",
   "execution_count": null,
   "id": "differential-tunnel",
   "metadata": {},
   "outputs": [],
   "source": []
  }
 ],
 "metadata": {
  "kernelspec": {
   "display_name": "Python 3",
   "language": "python",
   "name": "python3"
  },
  "language_info": {
   "codemirror_mode": {
    "name": "ipython",
    "version": 3
   },
   "file_extension": ".py",
   "mimetype": "text/x-python",
   "name": "python",
   "nbconvert_exporter": "python",
   "pygments_lexer": "ipython3",
   "version": "3.8.2"
  }
 },
 "nbformat": 4,
 "nbformat_minor": 5
}
