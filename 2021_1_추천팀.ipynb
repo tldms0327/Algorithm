{
 "cells": [
  {
   "cell_type": "code",
   "execution_count": 8,
   "id": "balanced-projector",
   "metadata": {},
   "outputs": [],
   "source": [
    "def sol(arr):\n",
    "    # Write your code here\n",
    "    answer = []\n",
    "    sums = 0\n",
    "    for i, a in enumerate(arr):\n",
    "        sums += a\n",
    "        answer.append(a * (i + 1) - sums)\n",
    "    return answer"
   ]
  },
  {
   "cell_type": "code",
   "execution_count": 9,
   "id": "opened-jesus",
   "metadata": {},
   "outputs": [
    {
     "data": {
      "text/plain": [
       "[0, 1, 1, 4, 0]"
      ]
     },
     "execution_count": 9,
     "metadata": {},
     "output_type": "execute_result"
    }
   ],
   "source": [
    "sol([1,2,2,3,2])"
   ]
  },
  {
   "cell_type": "code",
   "execution_count": 10,
   "id": "multiple-message",
   "metadata": {},
   "outputs": [],
   "source": [
    "def interpolate(n, instances, price):\n",
    "    # Write your code here\n",
    "    if n in instances:\n",
    "        return price[instances.index(n)]\n",
    "    elif len(instances) == 1:\n",
    "        return price[0]\n",
    "    elif n < instances[0]:\n",
    "        ax, ay = instances[0], price[0]\n",
    "        bx, by = instances[1], price[1]\n",
    "        slope = (by - ay) / (bx - ax)\n",
    "        answer = slope(n - ax) + ay\n",
    "    elif n > instances[-1]:\n",
    "        ax, ay = instances[-1], price[-1]\n",
    "        bx, by = instances[-2], price[-2]\n",
    "        slope = (by - ay) / (bx - ax)\n",
    "        answer = slope(n - ax) + ay\n",
    "    else:\n",
    "        for i, p in enumerate(instances[:-1]):\n",
    "            if n > instances[i] and n < instances[i+1]:\n",
    "                ax, ay = instances[i], price[i]\n",
    "                bx, by = instances[i+1], price[i+1]   \n",
    "                slope = (by - ay) / (bx - ax)\n",
    "                answer = slope(n - ax) + ay\n",
    "                break\n",
    "            \n",
    "    return format(answer, '.2f')"
   ]
  },
  {
   "cell_type": "code",
   "execution_count": 12,
   "id": "three-netherlands",
   "metadata": {},
   "outputs": [],
   "source": [
    "prices= [ 0.0, 0.0, 0.0]"
   ]
  },
  {
   "cell_type": "code",
   "execution_count": 21,
   "id": "nasty-triple",
   "metadata": {},
   "outputs": [],
   "source": [
    "p = prices\n",
    "x = p[0]"
   ]
  },
  {
   "cell_type": "code",
   "execution_count": 22,
   "id": "convertible-momentum",
   "metadata": {},
   "outputs": [
    {
     "data": {
      "text/plain": [
       "(0.0, float, True, True)"
      ]
     },
     "execution_count": 22,
     "metadata": {},
     "output_type": "execute_result"
    }
   ],
   "source": [
    "x, type(x), x == 0, x == 0.0"
   ]
  },
  {
   "cell_type": "code",
   "execution_count": 28,
   "id": "signed-background",
   "metadata": {},
   "outputs": [],
   "source": [
    "from collections import defaultdict"
   ]
  },
  {
   "cell_type": "code",
   "execution_count": 34,
   "id": "adverse-issue",
   "metadata": {},
   "outputs": [
    {
     "name": "stdout",
     "output_type": "stream",
     "text": [
      "defaultdict(<class 'list'>, {0: [1, 3], 3: [0, 1, 4], 4: [2, 3], 1: [0, 2, 3], 2: [1, 4]})\n"
     ]
    },
    {
     "data": {
      "text/plain": [
       "0"
      ]
     },
     "execution_count": 34,
     "metadata": {},
     "output_type": "execute_result"
    }
   ],
   "source": [
    "def lexdfs(gnodes, g_from, g_to, r, v):\n",
    "    graph = defaultdict(list)\n",
    "    for i, d in enumerate(g_from):\n",
    "        graph[d].append(g_to[i])\n",
    "        graph[g_to[i]].append(d)\n",
    "    for k in graph:\n",
    "        graph[k].sort()\n",
    "    print(graph)\n",
    "    \n",
    "    \n",
    "    \n",
    "    return 0\n",
    "\n",
    "lexdfs(gnode, gfrom, gto, r, v)"
   ]
  },
  {
   "cell_type": "code",
   "execution_count": 32,
   "id": "sticky-hollywood",
   "metadata": {},
   "outputs": [],
   "source": [
    "gnode = 3\n",
    "gfrom = [0,3,1,0,1,2]\n",
    "gto = [3,4,2,1,3,4]\n",
    "r = [0,3,2,1]\n",
    "v = [1,4,4,2]"
   ]
  },
  {
   "cell_type": "code",
   "execution_count": 35,
   "id": "collective-committee",
   "metadata": {},
   "outputs": [],
   "source": [
    "from collections import defaultdict\n",
    "from collections import deque\n",
    "a = defaultdict(deque)"
   ]
  },
  {
   "cell_type": "code",
   "execution_count": 38,
   "id": "cosmetic-attribute",
   "metadata": {},
   "outputs": [],
   "source": [
    "a[0].append(3)"
   ]
  },
  {
   "cell_type": "code",
   "execution_count": 39,
   "id": "unnecessary-international",
   "metadata": {},
   "outputs": [
    {
     "data": {
      "text/plain": [
       "defaultdict(collections.deque, {0: deque([1, 3])})"
      ]
     },
     "execution_count": 39,
     "metadata": {},
     "output_type": "execute_result"
    }
   ],
   "source": [
    "a"
   ]
  },
  {
   "cell_type": "code",
   "execution_count": 69,
   "id": "capable-withdrawal",
   "metadata": {},
   "outputs": [],
   "source": [
    "from collections import defaultdict\n",
    "from collections import deque\n",
    "def minimumMovement(obstacleLanes):\n",
    "    # Write your code here\n",
    "    obstacleLanes = deque(obstacleLanes)\n",
    "    answer = 0\n",
    "    now_lane = 2\n",
    "    now_pos = 0\n",
    "    done = False\n",
    "    obs = defaultdict(deque)\n",
    "    for i, obstacle in enumerate(obstacleLanes):\n",
    "        obs[obstacle].append(i+1)\n",
    "    last = i \n",
    "    \n",
    "    while now_pos <= last:\n",
    "        if obstacleLanes[now_pos] == now_lane:\n",
    "            if (not obs[1]) or not(obs[2]) or not(obs[3]):\n",
    "                answer += 1\n",
    "                now_pos += 1\n",
    "                break\n",
    "        lst = [i for i in range(1, 4) if i != now_lane]\n",
    "        if obstacleLanes[now_pos] == now_lane:\n",
    "            candidate = [obs[i][0] for i in lst]\n",
    "            now_pos = max(candidate)\n",
    "            new_lane = candidate.index(now_pos) + 1 \n",
    "            while obs[1] and obs[1][0] < now_pos:\n",
    "                obs[1].popleft()\n",
    "            while obs[2] and obs[2][0] < now_pos:\n",
    "                obs[2].popleft()\n",
    "            while obs[3] and obs[3][0] < now_pos:\n",
    "                obs[3].popleft()\n",
    "            answer += 1\n",
    "        else:\n",
    "            now_pos += 1\n",
    "        print(now_pos, new_lane)\n",
    "\n",
    "\n",
    "        \n",
    "    return answer"
   ]
  },
  {
   "cell_type": "code",
   "execution_count": 70,
   "id": "worth-overview",
   "metadata": {},
   "outputs": [
    {
     "name": "stdout",
     "output_type": "stream",
     "text": [
      "4 1\n",
      "5 1\n",
      "6 1\n"
     ]
    },
    {
     "data": {
      "text/plain": [
       "1"
      ]
     },
     "execution_count": 70,
     "metadata": {},
     "output_type": "execute_result"
    }
   ],
   "source": [
    "minimumMovement([2,3,2,1,3,1])"
   ]
  },
  {
   "cell_type": "code",
   "execution_count": null,
   "id": "figured-growth",
   "metadata": {},
   "outputs": [],
   "source": []
  }
 ],
 "metadata": {
  "kernelspec": {
   "display_name": "Python 3",
   "language": "python",
   "name": "python3"
  },
  "language_info": {
   "codemirror_mode": {
    "name": "ipython",
    "version": 3
   },
   "file_extension": ".py",
   "mimetype": "text/x-python",
   "name": "python",
   "nbconvert_exporter": "python",
   "pygments_lexer": "ipython3",
   "version": "3.8.2"
  }
 },
 "nbformat": 4,
 "nbformat_minor": 5
}
