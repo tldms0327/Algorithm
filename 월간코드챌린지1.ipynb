{
 "cells": [
  {
   "cell_type": "markdown",
   "metadata": {},
   "source": [
    "월간 코드 챌린지 시즌 1"
   ]
  },
  {
   "cell_type": "markdown",
   "metadata": {},
   "source": [
    "### 삼각 달팽이"
   ]
  },
  {
   "cell_type": "code",
   "execution_count": 83,
   "metadata": {},
   "outputs": [],
   "source": [
    "def solution(n):\n",
    "    triangle = [[0 for i in range(1, k + 1)] for k in range(1, n + 1)]\n",
    "    visited = 1\n",
    "    flag = 0 # 달팽이가 움질이는 방향\n",
    "    # 아래, 오른쪽, 위쪽 세 가지 움직임만 있으므로 그 방향으로의 움직임이 끝나면 flag ++\n",
    "    x, y = 0, 0\n",
    "    for flag in range(n):\n",
    "        # 아래로\n",
    "        if flag % 3 == 0:\n",
    "            while x < n and not triangle[x][y]:\n",
    "                triangle[x][y] = visited\n",
    "                visited += 1\n",
    "                x += 1\n",
    "                if x == n:\n",
    "                    break\n",
    "            x -= 1\n",
    "            y += 1\n",
    "        # 오른쪽으로\n",
    "        elif flag % 3 == 1:\n",
    "            while  y < n and not triangle[x][y]:\n",
    "                triangle[x][y] = visited\n",
    "                visited += 1\n",
    "                y += 1\n",
    "                if y == n:\n",
    "                    break\n",
    "            x -= 1\n",
    "            y -= 2\n",
    "        else:\n",
    "            while not triangle[x][y]:\n",
    "                triangle[x][y] = visited\n",
    "                visited += 1\n",
    "                y -= 1\n",
    "                x -= 1\n",
    "            x += 2\n",
    "            y += 1\n",
    "#         print(flag, triangle)\n",
    "    \n",
    "    return sum(triangle, [])"
   ]
  },
  {
   "cell_type": "code",
   "execution_count": 84,
   "metadata": {},
   "outputs": [
    {
     "data": {
      "text/plain": [
       "[[0], [0, 0], [0, 0, 0], [0, 0, 0, 0], [0, 0, 0, 0, 0], [0, 0, 0, 0, 0, 0]]"
      ]
     },
     "execution_count": 84,
     "metadata": {},
     "output_type": "execute_result"
    }
   ],
   "source": [
    "n = 6\n",
    "triangle = [[0 for i in range(1, k + 1)] for k in range(1, n + 1)]\n",
    "triangle"
   ]
  },
  {
   "cell_type": "code",
   "execution_count": 85,
   "metadata": {},
   "outputs": [
    {
     "name": "stdout",
     "output_type": "stream",
     "text": [
      "0 [[1], [2, 0], [3, 0, 0], [4, 0, 0, 0], [5, 0, 0, 0, 0], [6, 0, 0, 0, 0, 0]]\n",
      "1 [[1], [2, 0], [3, 0, 0], [4, 0, 0, 0], [5, 0, 0, 0, 0], [6, 7, 8, 9, 10, 11]]\n",
      "2 [[1], [2, 15], [3, 0, 14], [4, 0, 0, 13], [5, 0, 0, 0, 12], [6, 7, 8, 9, 10, 11]]\n",
      "3 [[1], [2, 15], [3, 16, 14], [4, 17, 0, 13], [5, 18, 0, 0, 12], [6, 7, 8, 9, 10, 11]]\n",
      "4 [[1], [2, 15], [3, 16, 14], [4, 17, 0, 13], [5, 18, 19, 20, 12], [6, 7, 8, 9, 10, 11]]\n",
      "5 [[1], [2, 15], [3, 16, 14], [4, 17, 21, 13], [5, 18, 19, 20, 12], [6, 7, 8, 9, 10, 11]]\n"
     ]
    },
    {
     "data": {
      "text/plain": [
       "[1, 2, 15, 3, 16, 14, 4, 17, 21, 13, 5, 18, 19, 20, 12, 6, 7, 8, 9, 10, 11]"
      ]
     },
     "execution_count": 85,
     "metadata": {},
     "output_type": "execute_result"
    }
   ],
   "source": [
    "solution(6)"
   ]
  },
  {
   "cell_type": "markdown",
   "metadata": {},
   "source": []
  },
  {
   "cell_type": "markdown",
   "metadata": {},
   "source": [
    "### 쿼드압축 후 개수 세기"
   ]
  },
  {
   "cell_type": "code",
   "execution_count": 133,
   "metadata": {},
   "outputs": [],
   "source": [
    "def solution(arr):\n",
    "    answer = [0,0]\n",
    "    press(0, 0, len(arr), arr, answer)\n",
    "    return answer\n",
    "    \n",
    "def press(x, y, size, arr, answer):\n",
    "    # 0으로 압출인지, 1로 압축인지 체크\n",
    "    one = True\n",
    "    zero = True\n",
    "    for i in arr[x: x + size]:\n",
    "        for j in i[y: y + size]:\n",
    "            if j == 1:\n",
    "                zero = False\n",
    "            if j == 0:\n",
    "                one = False\n",
    "        # 압축되지 않았을 때\n",
    "        if zero == False and one == False:\n",
    "            press(x, y, size // 2, arr, answer)\n",
    "            press(x, y + size // 2, size // 2, arr, answer)\n",
    "            press(x + size // 2, y, size // 2, arr, answer)\n",
    "            press(x + size // 2, y + size // 2, size // 2,arr, answer)\n",
    "            break\n",
    "            \n",
    "    # 1로 압축됐을 때\n",
    "    if one:\n",
    "        answer[1] += 1\n",
    "    # 0으로 압축됐을 때\n",
    "    elif zero:\n",
    "        answer[0] += 1\n",
    "    # 압축되지 않았을 때\n"
   ]
  },
  {
   "cell_type": "code",
   "execution_count": 134,
   "metadata": {},
   "outputs": [
    {
     "data": {
      "text/plain": [
       "[4, 9]"
      ]
     },
     "execution_count": 134,
     "metadata": {},
     "output_type": "execute_result"
    }
   ],
   "source": [
    "solution([[1,1,0,0],[1,0,0,0],[1,0,0,1],[1,1,1,1]])"
   ]
  },
  {
   "cell_type": "code",
   "execution_count": 135,
   "metadata": {},
   "outputs": [],
   "source": [
    "# numpy 이용\n",
    "import numpy as np\n",
    "\n",
    "def solution(arr):\n",
    "    # 재귀함수 구현\n",
    "    def fn(a):\n",
    "        if np.all(a == 0): return np.array([1, 0])\n",
    "        if np.all(a == 1): return np.array([0, 1])\n",
    "        n = a.shape[0]//2\n",
    "        return fn(a[:n, :n]) + fn(a[n:, :n]) + fn(a[:n, n:]) + fn(a[n:, n:])\n",
    "\n",
    "    # 결과 리턴\n",
    "    return fn(np.array(arr)).tolist()"
   ]
  },
  {
   "cell_type": "code",
   "execution_count": null,
   "metadata": {},
   "outputs": [],
   "source": []
  },
  {
   "cell_type": "code",
   "execution_count": null,
   "metadata": {},
   "outputs": [],
   "source": []
  },
  {
   "cell_type": "markdown",
   "metadata": {},
   "source": [
    "### 풍선 터뜨리기"
   ]
  },
  {
   "cell_type": "code",
   "execution_count": 145,
   "metadata": {},
   "outputs": [],
   "source": [
    "# 둘 중 작은걸 터뜨리는건 무조건 한 번만! , 나머지는 다 큰걸 터뜨린다\n",
    "# 양 옆의 풍선 두 개보다 더 큰 숫자를 가진 풍선을 터질 수 밖에 없다\n",
    "def solution(a):\n",
    "    answer = 0\n",
    "    left = a[0]\n",
    "    right = a[-1]\n",
    "    if len(a) <= 2:\n",
    "        return (len(a))\n",
    "    \n",
    "    for i, x in enumerate(a):\n",
    "        if i == 0 or i == len(a) - 1:\n",
    "            answer += 1\n",
    "        else:\n",
    "            if x < left:\n",
    "                left = x\n",
    "                answer += 1\n",
    "            if right > a[len(a) - 1 - i]:\n",
    "                right = a[len(a) - 1 - i]\n",
    "                answer += 1\n",
    "                \n",
    "    if left == right:\n",
    "        return answer - 1\n",
    "    else:\n",
    "        return answer\n"
   ]
  },
  {
   "cell_type": "code",
   "execution_count": 146,
   "metadata": {},
   "outputs": [
    {
     "data": {
      "text/plain": [
       "6"
      ]
     },
     "execution_count": 146,
     "metadata": {},
     "output_type": "execute_result"
    }
   ],
   "source": [
    "solution([-16,27,65,-2,58,-92,-71,-68,-61,-33])"
   ]
  },
  {
   "cell_type": "code",
   "execution_count": null,
   "metadata": {},
   "outputs": [],
   "source": [
    "# 다른 사람 풀이\n",
    "def solution(a):\n",
    "    answer = 1\n",
    "    M = min(a) # 최솟값은 무조건 살아남는다\n",
    "    # 최솟값을 기준으로 앞, 뒤 두 번 판단하기\n",
    "    for _ in range(2):\n",
    "        m = a[0]\n",
    "        i = 1\n",
    "        while m != M:\n",
    "            if m >= a[i]: # 현재까지의 최솟값보다 새 값이 더 작을 때\n",
    "                m = a[i] # a[i](더 작은 값)은 살아남는다\n",
    "                answer += 1\n",
    "            i += 1\n",
    "        a.reverse()\n",
    "    return answer\n"
   ]
  }
 ],
 "metadata": {
  "kernelspec": {
   "display_name": "Python 3",
   "language": "python",
   "name": "python3"
  },
  "language_info": {
   "codemirror_mode": {
    "name": "ipython",
    "version": 3
   },
   "file_extension": ".py",
   "mimetype": "text/x-python",
   "name": "python",
   "nbconvert_exporter": "python",
   "pygments_lexer": "ipython3",
   "version": "3.7.6"
  }
 },
 "nbformat": 4,
 "nbformat_minor": 4
}
