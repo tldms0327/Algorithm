{
 "cells": [
  {
   "cell_type": "markdown",
   "id": "living-instruction",
   "metadata": {},
   "source": [
    "### 신규 아이디 추천"
   ]
  },
  {
   "cell_type": "code",
   "execution_count": 52,
   "id": "plain-celebrity",
   "metadata": {},
   "outputs": [],
   "source": [
    "def solution(newid):\n",
    "    answer = ''\n",
    "    # phase 1, 4\n",
    "    newid = str.lower(newid).strip('.')\n",
    "    # phase 2, 3\n",
    "    for i, s in enumerate(newid):\n",
    "        if s.isalpha() or s.isdigit() or s in('-', '_'):\n",
    "            answer += s\n",
    "        elif s == '.':\n",
    "            if answer and answer[-1] == '.':\n",
    "                continue\n",
    "            else:\n",
    "                answer += s\n",
    "    # phase 4\n",
    "    answer = answer.strip('.')\n",
    "\n",
    "    # phase 5\n",
    "    if len(answer) == 0:\n",
    "        answer = 'a'\n",
    "        \n",
    "    # phase 6\n",
    "    answer = answer[:15].strip('.')\n",
    "\n",
    "    #phase 7\n",
    "    if len(answer) <= 2:\n",
    "        answer = answer + answer[-1] * (3-len(answer))\n",
    "            \n",
    "    \n",
    "    return answer"
   ]
  },
  {
   "cell_type": "code",
   "execution_count": 53,
   "id": "stainless-match",
   "metadata": {},
   "outputs": [],
   "source": [
    "s = \"=.=\""
   ]
  },
  {
   "cell_type": "code",
   "execution_count": 54,
   "id": "mathematical-hearts",
   "metadata": {},
   "outputs": [
    {
     "data": {
      "text/plain": [
       "'aaa'"
      ]
     },
     "execution_count": 54,
     "metadata": {},
     "output_type": "execute_result"
    }
   ],
   "source": [
    "solution(s)"
   ]
  },
  {
   "cell_type": "code",
   "execution_count": 55,
   "id": "given-hometown",
   "metadata": {},
   "outputs": [],
   "source": [
    "# 정규식을 이용한 풀이\n",
    "import re\n",
    "\n",
    "def solution_re(new_id):\n",
    "    st = new_id\n",
    "    st = st.lower()\n",
    "    st = re.sub('[^a-z0-9\\-_.]', '', st)\n",
    "    st = re.sub('\\.+', '.', st)\n",
    "    st = re.sub('^[.]|[.]$', '', st) # strip('.')\n",
    "    st = 'a' if len(st) == 0 else st[:15]\n",
    "    st = re.sub('^[.]|[.]$', '', st)\n",
    "    st = st if len(st) > 2 else st + \"\".join([st[-1] for i in range(3-len(st))])\n",
    "    return st"
   ]
  },
  {
   "cell_type": "code",
   "execution_count": null,
   "id": "heated-nepal",
   "metadata": {},
   "outputs": [],
   "source": []
  },
  {
   "cell_type": "markdown",
   "id": "nearby-ireland",
   "metadata": {},
   "source": [
    "### 순위 검색"
   ]
  },
  {
   "cell_type": "code",
   "execution_count": 107,
   "id": "recent-poster",
   "metadata": {},
   "outputs": [],
   "source": [
    "# 정확성 만접, 효율성 통과 X\n",
    "def solution(info, query):\n",
    "    answer = []\n",
    "    query = [split_query(q) for q in query]\n",
    "    info = [i.split(\" \") for i in info]\n",
    "    \n",
    "    for q in query:\n",
    "        tmp = info[:]\n",
    "        tmp2 = []\n",
    "        for i, con in enumerate(q[:4]):\n",
    "            if con == '-':\n",
    "                continue\n",
    "            else:\n",
    "                tmp2 = [t for t in tmp if t[i] == con]\n",
    "            tmp = tmp2[:]\n",
    "            tmp2 = []\n",
    "        answer.append(len([t for t in tmp if int(t[4]) >= int(q[4])]))\n",
    "            \n",
    "    return answer\n",
    "\n",
    "def split_query(query):\n",
    "    newQuery = query.replace(\"and \", \"\").split(\" \")\n",
    "#     ['java', 'backend', '-', 'pizza', '100']\n",
    "    return newQuery"
   ]
  },
  {
   "cell_type": "code",
   "execution_count": 108,
   "id": "incredible-coffee",
   "metadata": {},
   "outputs": [],
   "source": [
    "info = [\"java backend junior pizza 150\",\"python frontend senior chicken 210\",\"python frontend senior chicken 150\",\"cpp backend senior pizza 260\",\"java backend junior chicken 80\",\"python backend senior chicken 50\"]"
   ]
  },
  {
   "cell_type": "code",
   "execution_count": 109,
   "id": "expanded-furniture",
   "metadata": {},
   "outputs": [],
   "source": [
    "query = [\"java and backend and junior and pizza 100\",\"python and frontend and senior and chicken 200\",\"cpp and - and senior and pizza 250\",\"- and backend and senior and - 150\",\"- and - and - and chicken 100\",\"- and - and - and - 150\"]"
   ]
  },
  {
   "cell_type": "code",
   "execution_count": 116,
   "id": "quick-construction",
   "metadata": {},
   "outputs": [
    {
     "name": "stdout",
     "output_type": "stream",
     "text": [
      "[['cpp', 'backend', 'senior', 'pizza', '260'], ['python', 'frontend', 'senior', 'chicken', '210'], ['java', 'backend', 'junior', 'pizza', '150'], ['python', 'frontend', 'senior', 'chicken', '150'], ['java', 'backend', 'junior', 'chicken', '80'], ['python', 'backend', 'senior', 'chicken', '50']]\n"
     ]
    },
    {
     "data": {
      "text/plain": [
       "[1, 1, 1, 1, 2, 4]"
      ]
     },
     "execution_count": 116,
     "metadata": {},
     "output_type": "execute_result"
    }
   ],
   "source": [
    "solution(info, query)"
   ]
  },
  {
   "cell_type": "code",
   "execution_count": 101,
   "id": "chemical-adoption",
   "metadata": {},
   "outputs": [
    {
     "data": {
      "text/plain": [
       "True"
      ]
     },
     "execution_count": 101,
     "metadata": {},
     "output_type": "execute_result"
    }
   ],
   "source": [
    "'50'>'150'"
   ]
  },
  {
   "cell_type": "code",
   "execution_count": 115,
   "id": "spatial-termination",
   "metadata": {},
   "outputs": [],
   "source": [
    "# 효율성 ㅠㅠ\n",
    "def solution(info, query):\n",
    "    answer = []\n",
    "    query = [split_query(q) for q in query]\n",
    "    info = sorted([i.split(\" \") for i in info], key=lambda x: int(x[4]), reverse=True)\n",
    "    \n",
    "    for q in query: \n",
    "        cnt = 0\n",
    "        for i in info:\n",
    "            if int(i[4]) < int(q[4]):\n",
    "                break\n",
    "            else:\n",
    "                if (q[0] == i[0] or q[0] == '-') and \\\n",
    "                (q[1] == i[1] or q[1] == '-') and \\\n",
    "                (q[2] == i[2] or q[2] == '-') and \\\n",
    "                (q[3] == i[3] or q[3] == '-'):\n",
    "                    cnt += 1\n",
    "        answer.append(cnt)\n",
    "            \n",
    "    return answer\n",
    "\n",
    "def split_query(query):\n",
    "    newQuery = query.replace(\"and \", \"\").split(\" \")\n",
    "#     ['java', 'backend', '-', 'pizza', '100']\n",
    "    return newQuery"
   ]
  },
  {
   "cell_type": "code",
   "execution_count": 117,
   "id": "latter-detroit",
   "metadata": {},
   "outputs": [],
   "source": [
    "# 모든 경우의 수를 알고 있으니, 이를 key값으로 잡아보자\n",
    "# 개발언어 3가지, 직군 2가지, 경력 2가지, 소울푸드 2가지"
   ]
  },
  {
   "cell_type": "code",
   "execution_count": null,
   "id": "offensive-voice",
   "metadata": {},
   "outputs": [],
   "source": []
  },
  {
   "cell_type": "code",
   "execution_count": null,
   "id": "tested-representation",
   "metadata": {},
   "outputs": [],
   "source": []
  },
  {
   "cell_type": "markdown",
   "id": "desirable-mission",
   "metadata": {},
   "source": [
    "### 메뉴 리뉴얼"
   ]
  },
  {
   "cell_type": "code",
   "execution_count": null,
   "id": "sealed-advocacy",
   "metadata": {},
   "outputs": [],
   "source": []
  },
  {
   "cell_type": "code",
   "execution_count": null,
   "id": "editorial-civilian",
   "metadata": {},
   "outputs": [],
   "source": []
  },
  {
   "cell_type": "code",
   "execution_count": null,
   "id": "collaborative-ukraine",
   "metadata": {},
   "outputs": [],
   "source": []
  }
 ],
 "metadata": {
  "kernelspec": {
   "display_name": "Python 3",
   "language": "python",
   "name": "python3"
  },
  "language_info": {
   "codemirror_mode": {
    "name": "ipython",
    "version": 3
   },
   "file_extension": ".py",
   "mimetype": "text/x-python",
   "name": "python",
   "nbconvert_exporter": "python",
   "pygments_lexer": "ipython3",
   "version": "3.8.2"
  }
 },
 "nbformat": 4,
 "nbformat_minor": 5
}
