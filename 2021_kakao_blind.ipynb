{
 "cells": [
  {
   "cell_type": "markdown",
   "id": "global-locator",
   "metadata": {},
   "source": [
    "### 신규 아이디 추천"
   ]
  },
  {
   "cell_type": "code",
   "execution_count": 52,
   "id": "sustained-investment",
   "metadata": {},
   "outputs": [],
   "source": [
    "def solution(newid):\n",
    "    answer = ''\n",
    "    # phase 1, 4\n",
    "    newid = str.lower(newid).strip('.')\n",
    "    # phase 2, 3\n",
    "    for i, s in enumerate(newid):\n",
    "        if s.isalpha() or s.isdigit() or s in('-', '_'):\n",
    "            answer += s\n",
    "        elif s == '.':\n",
    "            if answer and answer[-1] == '.':\n",
    "                continue\n",
    "            else:\n",
    "                answer += s\n",
    "    # phase 4\n",
    "    answer = answer.strip('.')\n",
    "\n",
    "    # phase 5\n",
    "    if len(answer) == 0:\n",
    "        answer = 'a'\n",
    "        \n",
    "    # phase 6\n",
    "    answer = answer[:15].strip('.')\n",
    "\n",
    "    #phase 7\n",
    "    if len(answer) <= 2:\n",
    "        answer = answer + answer[-1] * (3-len(answer))\n",
    "            \n",
    "    \n",
    "    return answer"
   ]
  },
  {
   "cell_type": "code",
   "execution_count": 53,
   "id": "cloudy-alarm",
   "metadata": {},
   "outputs": [],
   "source": [
    "s = \"=.=\""
   ]
  },
  {
   "cell_type": "code",
   "execution_count": 54,
   "id": "proper-disposal",
   "metadata": {},
   "outputs": [
    {
     "data": {
      "text/plain": [
       "'aaa'"
      ]
     },
     "execution_count": 54,
     "metadata": {},
     "output_type": "execute_result"
    }
   ],
   "source": [
    "solution(s)"
   ]
  },
  {
   "cell_type": "code",
   "execution_count": 55,
   "id": "fifteen-venue",
   "metadata": {},
   "outputs": [],
   "source": [
    "# 정규식을 이용한 풀이\n",
    "import re\n",
    "\n",
    "def solution_re(new_id):\n",
    "    st = new_id\n",
    "    st = st.lower()\n",
    "    st = re.sub('[^a-z0-9\\-_.]', '', st)\n",
    "    st = re.sub('\\.+', '.', st)\n",
    "    st = re.sub('^[.]|[.]$', '', st) # strip('.')\n",
    "    st = 'a' if len(st) == 0 else st[:15]\n",
    "    st = re.sub('^[.]|[.]$', '', st)\n",
    "    st = st if len(st) > 2 else st + \"\".join([st[-1] for i in range(3-len(st))])\n",
    "    return st"
   ]
  },
  {
   "cell_type": "code",
   "execution_count": null,
   "id": "successful-camcorder",
   "metadata": {},
   "outputs": [],
   "source": []
  },
  {
   "cell_type": "markdown",
   "id": "italic-routine",
   "metadata": {},
   "source": [
    "### 순위 검색"
   ]
  },
  {
   "cell_type": "code",
   "execution_count": 107,
   "id": "instant-lawsuit",
   "metadata": {},
   "outputs": [],
   "source": [
    "# 정확성 만접, 효율성 통과 X\n",
    "# 효율성 ㅠㅠ\n",
    "def solution(info, query):\n",
    "    answer = []\n",
    "    query = [split_query(q) for q in query]\n",
    "    info = sorted([i.split(\" \") for i in info], key=lambda x: int(x[4]), reverse=True)\n",
    "    \n",
    "    for q in query: \n",
    "        cnt = 0\n",
    "        for i in info:\n",
    "            if int(i[4]) < int(q[4]):\n",
    "                break\n",
    "            else:\n",
    "                if (q[0] == i[0] or q[0] == '-') and \\\n",
    "                (q[1] == i[1] or q[1] == '-') and \\\n",
    "                (q[2] == i[2] or q[2] == '-') and \\\n",
    "                (q[3] == i[3] or q[3] == '-'):\n",
    "                    cnt += 1\n",
    "        answer.append(cnt)\n",
    "            \n",
    "    return answer\n",
    "\n",
    "def split_query(query):\n",
    "    newQuery = query.replace(\"and \", \"\").split(\" \")\n",
    "#     ['java', 'backend', '-', 'pizza', '100']\n",
    "    return newQuery"
   ]
  },
  {
   "cell_type": "code",
   "execution_count": 108,
   "id": "arctic-martial",
   "metadata": {},
   "outputs": [],
   "source": [
    "info = [\"java backend junior pizza 150\",\"python frontend senior chicken 210\",\"python frontend senior chicken 150\",\"cpp backend senior pizza 260\",\"java backend junior chicken 80\",\"python backend senior chicken 50\"]"
   ]
  },
  {
   "cell_type": "code",
   "execution_count": 109,
   "id": "divine-nebraska",
   "metadata": {},
   "outputs": [],
   "source": [
    "query = [\"java and backend and junior and pizza 100\",\"python and frontend and senior and chicken 200\",\"cpp and - and senior and pizza 250\",\"- and backend and senior and - 150\",\"- and - and - and chicken 100\",\"- and - and - and - 150\"]"
   ]
  },
  {
   "cell_type": "code",
   "execution_count": 342,
   "id": "valued-jewel",
   "metadata": {},
   "outputs": [
    {
     "name": "stdout",
     "output_type": "stream",
     "text": [
      "defaultdict(<class 'list'>, {'javabackendjuniorpizza': [150], 'javabackendjunior-': [150, 80], 'javabackend-pizza': [150], 'javabackend--': [150, 80], 'java-juniorpizza': [150], 'java-junior-': [150, 80], 'java--pizza': [150], 'java---': [150, 80], '-backendjuniorpizza': [150], '-backendjunior-': [150, 80], '-backend-pizza': [150, 260], '-backend--': [150, 260, 80, 50], '--juniorpizza': [150], '--junior-': [150, 80], '---pizza': [150, 260], '----': [150, 210, 150, 260, 80, 50], 'pythonfrontendseniorchicken': [210, 150], 'pythonfrontendsenior-': [210, 150], 'pythonfrontend-chicken': [210, 150], 'pythonfrontend--': [210, 150], 'python-seniorchicken': [210, 150, 50], 'python-senior-': [210, 150, 50], 'python--chicken': [210, 150, 50], 'python---': [210, 150, 50], '-frontendseniorchicken': [210, 150], '-frontendsenior-': [210, 150], '-frontend-chicken': [210, 150], '-frontend--': [210, 150], '--seniorchicken': [210, 150, 50], '--senior-': [210, 150, 260, 50], '---chicken': [210, 150, 80, 50], 'cppbackendseniorpizza': [260], 'cppbackendsenior-': [260], 'cppbackend-pizza': [260], 'cppbackend--': [260], 'cpp-seniorpizza': [260], 'cpp-senior-': [260], 'cpp--pizza': [260], 'cpp---': [260], '-backendseniorpizza': [260], '-backendsenior-': [260, 50], '--seniorpizza': [260], 'javabackendjuniorchicken': [80], 'javabackend-chicken': [80], 'java-juniorchicken': [80], 'java--chicken': [80], '-backendjuniorchicken': [80], '-backend-chicken': [80, 50], '--juniorchicken': [80], 'pythonbackendseniorchicken': [50], 'pythonbackendsenior-': [50], 'pythonbackend-chicken': [50], 'pythonbackend--': [50], '-backendseniorchicken': [50]})\n"
     ]
    },
    {
     "data": {
      "text/plain": [
       "[1, 1, 1, 1, 2, 4]"
      ]
     },
     "execution_count": 342,
     "metadata": {},
     "output_type": "execute_result"
    }
   ],
   "source": [
    "from collections import defaultdict as d\n",
    "from itertools import product\n",
    "\n",
    "def solution(info, query):\n",
    "    answer = []\n",
    "    score_info = d(list)\n",
    "    \n",
    "    for i in info:\n",
    "        i = i.split(\" \")\n",
    "        s = product(*[[i[0], '-'],[i[1], '-'],[i[2], '-'],[i[3], '-']])\n",
    "        for k in s:\n",
    "            key = ''.join(list(k))\n",
    "            score_info[key].append(int(i[4]))\n",
    "    print(score_info)\n",
    "    \n",
    "    for key in score_info:\n",
    "        score_info[key] = sorted(score_info[key])\n",
    "                        \n",
    "    for qq in query:\n",
    "        qq = qq.replace(\"and \", \"\").split(\" \")\n",
    "        key = ''.join(qq[:4])\n",
    "        scores = score_info[key]\n",
    "        idx = binary_search(scores, 0, len(scores), int(qq[4]))\n",
    "\n",
    "        answer.append(len(scores) - idx + 1)\n",
    "    \n",
    "    return answer\n",
    "            \n",
    "def binary_search(arr, s, e, k):\n",
    "    # lower bound(array, start, end, target)\n",
    "    while(s < e):\n",
    "        m = (s + e) // 2;\n",
    "        if arr[m] < k:\n",
    "            s = m + 1\n",
    "        else:\n",
    "            e = m\n",
    "    return s + 1\n",
    "    \n",
    "solution(info, query)"
   ]
  },
  {
   "cell_type": "code",
   "execution_count": 341,
   "id": "abandoned-peninsula",
   "metadata": {},
   "outputs": [
    {
     "data": {
      "text/plain": [
       "[('aa', 'bb'), ('aa', '-'), ('-', 'bb'), ('-', '-')]"
      ]
     },
     "execution_count": 341,
     "metadata": {},
     "output_type": "execute_result"
    }
   ],
   "source": [
    "s = [['aa', '-'], ['bb', '-']]\n",
    "list(product(*s))"
   ]
  },
  {
   "cell_type": "code",
   "execution_count": 115,
   "id": "advised-barrier",
   "metadata": {},
   "outputs": [],
   "source": []
  },
  {
   "cell_type": "code",
   "execution_count": 117,
   "id": "prospective-journalist",
   "metadata": {},
   "outputs": [],
   "source": [
    "# 모든 경우의 수를 알고 있으니, 이를 key값으로 잡아보자\n",
    "# 개발언어 3가지, 직군 2가지, 경력 2가지, 소울푸드 2가지"
   ]
  },
  {
   "cell_type": "code",
   "execution_count": null,
   "id": "roman-treatment",
   "metadata": {},
   "outputs": [],
   "source": []
  },
  {
   "cell_type": "code",
   "execution_count": null,
   "id": "driven-cooling",
   "metadata": {},
   "outputs": [],
   "source": []
  },
  {
   "cell_type": "markdown",
   "id": "express-blind",
   "metadata": {},
   "source": [
    "### 메뉴 리뉴얼"
   ]
  },
  {
   "cell_type": "code",
   "execution_count": 190,
   "id": "sound-funds",
   "metadata": {},
   "outputs": [],
   "source": [
    "from itertools import combinations as c\n",
    "from itertools import product\n",
    "from collections import defaultdict as d\n",
    "\n",
    "def solution(orders, course):\n",
    "    answer = []\n",
    "\n",
    "    for i in course:\n",
    "        cnt = d(int)\n",
    "        for order in orders:\n",
    "            ikey = makeKey(order, i)\n",
    "            for k in ikey:\n",
    "                cnt[k] += 1\n",
    "        cnt = sorted(cnt.items(), key=lambda x: x[1], reverse=True)\n",
    "#         print(cnt)\n",
    "        if cnt:\n",
    "            if cnt[0][1] == 1:\n",
    "                continue\n",
    "            else:\n",
    "                for c in cnt:\n",
    "                    if c[1] == cnt[0][1]:\n",
    "                        answer.append(c[0])\n",
    "                    else:\n",
    "                        break\n",
    "\n",
    "    return sorted(answer)\n",
    "\n",
    "def makeKey(order, i):\n",
    "    return [''.join(sorted(l)) for l in c(order, i)]"
   ]
  },
  {
   "cell_type": "code",
   "execution_count": 196,
   "id": "alpine-western",
   "metadata": {},
   "outputs": [
    {
     "name": "stdout",
     "output_type": "stream",
     "text": [
      "Counter({('A', 'D'): 3, ('C', 'D'): 3, ('A', 'B'): 2, ('A', 'C'): 2, ('A', 'E'): 2, ('D', 'E'): 2, ('X', 'Y'): 2, ('X', 'Z'): 2, ('Y', 'Z'): 2, ('B', 'C'): 1, ('B', 'D'): 1, ('B', 'E'): 1, ('C', 'E'): 1})\n",
      "Counter({('A', 'C', 'D'): 2, ('A', 'D', 'E'): 2, ('X', 'Y', 'Z'): 2, ('A', 'B', 'C'): 1, ('A', 'B', 'D'): 1, ('A', 'B', 'E'): 1, ('A', 'C', 'E'): 1, ('B', 'C', 'D'): 1, ('B', 'C', 'E'): 1, ('B', 'D', 'E'): 1, ('C', 'D', 'E'): 1})\n",
      "Counter({('A', 'B', 'C', 'D', 'E'): 1})\n"
     ]
    },
    {
     "data": {
      "text/plain": [
       "['ACD', 'AD', 'ADE', 'CD', 'XYZ']"
      ]
     },
     "execution_count": 196,
     "metadata": {},
     "output_type": "execute_result"
    }
   ],
   "source": [
    "orders = [\"ABCDE\", \"AB\", \"CD\", \"ADE\", \"XYZ\", \"XYZ\", \"ACD\"]\n",
    "course = [2,3,5]\n",
    "solution(orders, course)"
   ]
  },
  {
   "cell_type": "code",
   "execution_count": 195,
   "id": "original-element",
   "metadata": {},
   "outputs": [],
   "source": [
    "# counter을 이용한 풀이!! \n",
    "from itertools import combinations\n",
    "from collections import Counter\n",
    "\n",
    "\n",
    "def solution(orders, course):\n",
    "    answer = []\n",
    "    for c in course:\n",
    "        temp = []\n",
    "        for order in orders:\n",
    "            combi = combinations(sorted(order), c)\n",
    "            temp += combi\n",
    "        counter = Counter(temp)\n",
    "#         print(counter)\n",
    "        if len(counter) != 0 and max(counter.values()) != 1:\n",
    "            answer += [''.join(f) for f in counter if counter[f] == max(counter.values())]\n",
    "\n",
    "    return sorted(answer)"
   ]
  },
  {
   "cell_type": "markdown",
   "id": "threaded-baptist",
   "metadata": {},
   "source": [
    "### 합승 택시 요금"
   ]
  },
  {
   "cell_type": "code",
   "execution_count": 338,
   "id": "international-craps",
   "metadata": {},
   "outputs": [],
   "source": [
    "import heapq\n",
    "from collections import defaultdict\n",
    "\n",
    "def dijkstra(graph, start):\n",
    "#     mygraph = {\n",
    "#     'A': {'B': 8, 'C': 1, 'D': 2},\n",
    "#     'B': {},\n",
    "#     'C': {'B': 5, 'D': 2},\n",
    "#     'D': {'E': 3, 'F': 5},\n",
    "#     'E': {'F': 1},\n",
    "#     'F': {'A': 5}\n",
    "# }\n",
    "    \n",
    "    distances = {node: float('inf') for node in graph}\n",
    "    distances[start] = 0\n",
    "    queue = []\n",
    "    heapq.heappush(queue, [distances[start], start])\n",
    "    \n",
    "    while queue:\n",
    "        current_distance, current_node = heapq.heappop(queue)\n",
    "        \n",
    "        if distances[current_node] < current_distance:\n",
    "            continue\n",
    "            \n",
    "        for adjacent, weight in graph[current_node].items():\n",
    "            distance = current_distance + weight\n",
    "            \n",
    "            if distance < distances[adjacent]:\n",
    "                distances[adjacent] = distance\n",
    "                heapq.heappush(queue, [distance, adjacent])\n",
    "                \n",
    "    return dict(distances)\n",
    "\n",
    "def solution(n, s, a, b, fares):\n",
    "    answer = 99999999\n",
    "    graph = defaultdict(dict)\n",
    "    minDist = dict()\n",
    "    for f in fares:\n",
    "        graph[f[0]][f[1]] = f[2]\n",
    "        graph[f[1]][f[0]] = f[2]\n",
    "        \n",
    "    for i in range(1, n + 1):\n",
    "        dist = dijkstra(graph, i)\n",
    "        answer = min(answer, dist[s] + dist[a] + dist[b])\n",
    "\n",
    "    return answer\n",
    "    "
   ]
  },
  {
   "cell_type": "code",
   "execution_count": 339,
   "id": "adopted-height",
   "metadata": {},
   "outputs": [],
   "source": [
    "fares = [[5, 7, 9], [4, 6, 4], [3, 6, 1], [3, 2, 3], [2, 1, 6]]\t"
   ]
  },
  {
   "cell_type": "code",
   "execution_count": 340,
   "id": "crucial-religious",
   "metadata": {},
   "outputs": [
    {
     "data": {
      "text/plain": [
       "14"
      ]
     },
     "execution_count": 340,
     "metadata": {},
     "output_type": "execute_result"
    }
   ],
   "source": [
    "solution(7,3,4,1,fares)"
   ]
  },
  {
   "cell_type": "markdown",
   "id": "broadband-place",
   "metadata": {},
   "source": [
    "### 광고 삽입"
   ]
  },
  {
   "cell_type": "code",
   "execution_count": 282,
   "id": "downtown-bangladesh",
   "metadata": {},
   "outputs": [],
   "source": [
    "def solution(play_time, adv_time, logs):\n",
    "    answer = ''\n",
    "    return answer"
   ]
  },
  {
   "cell_type": "code",
   "execution_count": null,
   "id": "informed-reform",
   "metadata": {},
   "outputs": [],
   "source": []
  },
  {
   "cell_type": "code",
   "execution_count": null,
   "id": "following-niger",
   "metadata": {},
   "outputs": [],
   "source": []
  },
  {
   "cell_type": "markdown",
   "id": "coordinated-plaza",
   "metadata": {},
   "source": [
    "### 카드 짝 맞추기"
   ]
  },
  {
   "cell_type": "code",
   "execution_count": null,
   "id": "referenced-observer",
   "metadata": {},
   "outputs": [],
   "source": []
  }
 ],
 "metadata": {
  "kernelspec": {
   "display_name": "Python 3",
   "language": "python",
   "name": "python3"
  },
  "language_info": {
   "codemirror_mode": {
    "name": "ipython",
    "version": 3
   },
   "file_extension": ".py",
   "mimetype": "text/x-python",
   "name": "python",
   "nbconvert_exporter": "python",
   "pygments_lexer": "ipython3",
   "version": "3.8.2"
  }
 },
 "nbformat": 4,
 "nbformat_minor": 5
}
