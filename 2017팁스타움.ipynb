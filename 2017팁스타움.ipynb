{
 "cells": [
  {
   "cell_type": "markdown",
   "id": "developmental-paraguay",
   "metadata": {},
   "source": [
    "### 예상 대진표"
   ]
  },
  {
   "cell_type": "code",
   "execution_count": 27,
   "id": "neither-joint",
   "metadata": {},
   "outputs": [],
   "source": [
    "import math\n",
    "def solution(n,a,b):\n",
    "    answer = 0\n",
    "    while a!=b :\n",
    "        answer += 1\n",
    "        a = a//2 + a % 2\n",
    "        b = b//2 + b % 2\n",
    "\n",
    "        \n",
    "    return answer"
   ]
  },
  {
   "cell_type": "code",
   "execution_count": 28,
   "id": "similar-measure",
   "metadata": {},
   "outputs": [
    {
     "data": {
      "text/plain": [
       "4"
      ]
     },
     "execution_count": 28,
     "metadata": {},
     "output_type": "execute_result"
    }
   ],
   "source": [
    "solution(16,1,16)"
   ]
  },
  {
   "cell_type": "code",
   "execution_count": null,
   "id": "based-international",
   "metadata": {},
   "outputs": [],
   "source": []
  },
  {
   "cell_type": "code",
   "execution_count": null,
   "id": "stupid-saint",
   "metadata": {},
   "outputs": [],
   "source": []
  }
 ],
 "metadata": {
  "kernelspec": {
   "display_name": "Python 3",
   "language": "python",
   "name": "python3"
  },
  "language_info": {
   "codemirror_mode": {
    "name": "ipython",
    "version": 3
   },
   "file_extension": ".py",
   "mimetype": "text/x-python",
   "name": "python",
   "nbconvert_exporter": "python",
   "pygments_lexer": "ipython3",
   "version": "3.9.1"
  }
 },
 "nbformat": 4,
 "nbformat_minor": 5
}
