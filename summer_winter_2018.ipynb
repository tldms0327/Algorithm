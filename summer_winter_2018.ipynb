{
 "cells": [
  {
   "cell_type": "markdown",
   "id": "spatial-spank",
   "metadata": {},
   "source": [
    "### 멀쩡한 사각형"
   ]
  },
  {
   "cell_type": "code",
   "execution_count": 37,
   "id": "affected-fashion",
   "metadata": {},
   "outputs": [],
   "source": [
    "import math\n",
    "def solution(w,h):\n",
    "    return w*h - (w+h-math.gcd(w,h))"
   ]
  },
  {
   "cell_type": "markdown",
   "id": "therapeutic-nicholas",
   "metadata": {},
   "source": [
    "### 스킬트리"
   ]
  },
  {
   "cell_type": "code",
   "execution_count": 59,
   "id": "prompt-floating",
   "metadata": {},
   "outputs": [],
   "source": [
    "def solution(skill, trees):\n",
    "    answer=0\n",
    "    for x in trees:\n",
    "        temp=''\n",
    "        for letter in x:\n",
    "            if letter in skill:\n",
    "                temp+=letter\n",
    "        \n",
    "        if (temp.startswith(skill[0]) and temp in skill) or temp=='':\n",
    "            answer+=1\n",
    "\n",
    "    return answer"
   ]
  },
  {
   "cell_type": "markdown",
   "id": "empirical-checkout",
   "metadata": {},
   "source": [
    "### 방문 길이"
   ]
  },
  {
   "cell_type": "code",
   "execution_count": 28,
   "id": "broke-university",
   "metadata": {},
   "outputs": [
    {
     "data": {
      "text/plain": [
       "7"
      ]
     },
     "execution_count": 28,
     "metadata": {},
     "output_type": "execute_result"
    }
   ],
   "source": [
    "from collections import defaultdict\n",
    "def solution(dirs):\n",
    "    answer = 0\n",
    "    grid = defaultdict(set)\n",
    "    now = (0,0)\n",
    "    \n",
    "    for dir in dirs:\n",
    "        # 경계에 있을 때는 패스\n",
    "        if dir == 'L' and now[0] != -5:\n",
    "            # 현재 위치에서 주어진 방향으로 가본 적이 없을 때는 새로운 길 +1\n",
    "            if 'L' not in grid[now]:\n",
    "                answer += 1\n",
    "                grid[now].add('L')\n",
    "            now = (now[0] - 1, now[1])\n",
    "            # 다음 위치에 대해서 현재 거친 경로를 추가\n",
    "            grid[now].add('R')\n",
    "            \n",
    "        elif dir == 'R' and now[0] != 5:\n",
    "            if 'R' not in grid[now]:\n",
    "                answer += 1\n",
    "                grid[now].add('R')\n",
    "            now = (now[0] + 1, now[1])\n",
    "            grid[now].add('L')\n",
    "            \n",
    "        elif dir == 'D' and now[1] != -5:\n",
    "            if 'D' not in grid[now]:\n",
    "                answer += 1\n",
    "                grid[now].add('D')\n",
    "            now = (now[0], now[1] - 1)\n",
    "            grid[now].add('U')\n",
    "            \n",
    "        elif dir == 'U' and now[1] != 5:\n",
    "            if 'U' not in grid[now]:\n",
    "                answer += 1\n",
    "                grid[now].add('U')\n",
    "            now = (now[0], now[1] + 1)\n",
    "            grid[now].add('D')\n",
    "                \n",
    "        \n",
    "    return answer\n",
    "\n",
    "solution(\"LULLLLLU\")"
   ]
  },
  {
   "cell_type": "code",
   "execution_count": 22,
   "id": "wrapped-arrest",
   "metadata": {},
   "outputs": [],
   "source": [
    "a = defaultdict(set)"
   ]
  },
  {
   "cell_type": "code",
   "execution_count": 23,
   "id": "intermediate-officer",
   "metadata": {},
   "outputs": [],
   "source": [
    "a[(1,1)].add('A')"
   ]
  },
  {
   "cell_type": "code",
   "execution_count": 24,
   "id": "seeing-tiffany",
   "metadata": {},
   "outputs": [
    {
     "data": {
      "text/plain": [
       "defaultdict(set, {(1, 1): {'A'}})"
      ]
     },
     "execution_count": 24,
     "metadata": {},
     "output_type": "execute_result"
    }
   ],
   "source": [
    "a"
   ]
  },
  {
   "cell_type": "markdown",
   "id": "instrumental-medicaid",
   "metadata": {},
   "source": [
    "### 배달"
   ]
  },
  {
   "cell_type": "code",
   "execution_count": 55,
   "id": "specific-seating",
   "metadata": {},
   "outputs": [],
   "source": [
    "def solution(N, road, K):\n",
    "    answer = [0] + [100000] * (N-1)\n",
    "#     print(answer)\n",
    "    level = set()\n",
    "    next_level = set()\n",
    "    level.add(1)\n",
    "    while road:\n",
    "        left_nodes = []\n",
    "        for r in road:\n",
    "#             print(r)\n",
    "            # 현재 탐색중인 노드와 연결된 노드들\n",
    "            if r[0] in level or r[1] in level:\n",
    "                if r[0] in level:\n",
    "                    answer[r[1] - 1] = min(answer[r[0]-1] + r[2], answer[r[1] - 1])\n",
    "                    if r[1] not in level:\n",
    "                        next_level.add(r[1])\n",
    "                if r[1] in level:\n",
    "                    answer[r[0] - 1] = min(answer[r[1]-1] + r[2], answer[r[0] - 1])\n",
    "                    if r[0] not in level:\n",
    "                        next_level.add(r[0])\n",
    "                \n",
    "            else:\n",
    "                left_nodes.append(r)\n",
    "        road = left_nodes[:]\n",
    "#         print('left:', road)\n",
    "        level = next_level\n",
    "                \n",
    "#     print(answer)\n",
    "    \n",
    "    return sum(1 for x in answer if x <= K) "
   ]
  },
  {
   "cell_type": "code",
   "execution_count": 56,
   "id": "valid-olympus",
   "metadata": {},
   "outputs": [
    {
     "name": "stdout",
     "output_type": "stream",
     "text": [
      "[0, 100000, 100000, 100000, 100000]\n"
     ]
    },
    {
     "data": {
      "text/plain": [
       "4"
      ]
     },
     "execution_count": 56,
     "metadata": {},
     "output_type": "execute_result"
    }
   ],
   "source": [
    "N = 5\n",
    "road = [[1,2,1],[2,3,3],[5,2,2],[1,4,2],[5,3,1],[5,4,2]]\n",
    "K = 3\n",
    "solution(N, road, K)"
   ]
  },
  {
   "cell_type": "code",
   "execution_count": 54,
   "id": "mechanical-sugar",
   "metadata": {},
   "outputs": [
    {
     "name": "stdout",
     "output_type": "stream",
     "text": [
      "[0, 100000, 100000, 100000, 100000, 100000]\n",
      "left: [[2, 3, 2], [3, 4, 3], [3, 5, 2], [3, 5, 3], [5, 6, 1]]\n",
      "[0, 1, 2, 100000, 100000, 100000]\n",
      "left: []\n",
      "[0, 1, 2, 5, 4, 5]\n",
      "[0, 1, 2, 5, 4, 5]\n"
     ]
    },
    {
     "data": {
      "text/plain": [
       "4"
      ]
     },
     "execution_count": 54,
     "metadata": {},
     "output_type": "execute_result"
    }
   ],
   "source": [
    "N = 6\n",
    "road = [[1,2,1],[1,3,2],[2,3,2],[3,4,3],[3,5,2],[3,5,3],[5,6,1]]\t\n",
    "K = 4\n",
    "solution(N, road, K)"
   ]
  },
  {
   "cell_type": "code",
   "execution_count": null,
   "id": "greek-adaptation",
   "metadata": {},
   "outputs": [],
   "source": []
  },
  {
   "cell_type": "markdown",
   "id": "guided-detector",
   "metadata": {},
   "source": [
    "### 점프와 순간 이동"
   ]
  },
  {
   "cell_type": "code",
   "execution_count": 1,
   "id": "changed-appeal",
   "metadata": {},
   "outputs": [],
   "source": [
    "def solution(n):\n",
    "    answer = 0\n",
    "    while n > 0:\n",
    "        if n % 2 == 0:\n",
    "            n /= 2\n",
    "        else:\n",
    "            answer += 1\n",
    "            n -= 1\n",
    "        print(n)\n",
    "        \n",
    "    return answer\n",
    "    "
   ]
  },
  {
   "cell_type": "code",
   "execution_count": 3,
   "id": "delayed-jurisdiction",
   "metadata": {},
   "outputs": [
    {
     "name": "stdout",
     "output_type": "stream",
     "text": [
      "4\n",
      "2.0\n",
      "1.0\n",
      "0.0\n"
     ]
    },
    {
     "data": {
      "text/plain": [
       "2"
      ]
     },
     "execution_count": 3,
     "metadata": {},
     "output_type": "execute_result"
    }
   ],
   "source": [
    "solution(5)"
   ]
  },
  {
   "cell_type": "code",
   "execution_count": 4,
   "id": "seventh-negotiation",
   "metadata": {},
   "outputs": [],
   "source": [
    "# 2진수로 바꿔주는 모듈이 있었다...!\n",
    "def solution2(n):\n",
    "    return bin(n).count('1')"
   ]
  },
  {
   "cell_type": "markdown",
   "id": "meaningful-fantasy",
   "metadata": {},
   "source": [
    "### 영어 끝말잇기"
   ]
  },
  {
   "cell_type": "code",
   "execution_count": 7,
   "id": "comparative-mainstream",
   "metadata": {},
   "outputs": [],
   "source": [
    "# 오 옛날 답이랑 똑같이 풀었어.. ㄷ ㄷ\n",
    "def solution(n, words):\n",
    "    answer = [0, 0]\n",
    "    for i, word in enumerate(words):\n",
    "        if i == 0:\n",
    "            continue\n",
    "            \n",
    "#         print(i, word)\n",
    "        if words[i-1][-1] != word[0] or word in words[:i-1]:\n",
    "            answer[0] = i % n + 1\n",
    "            answer[1] = i // n + 1\n",
    "            return answer\n",
    "    return answer"
   ]
  },
  {
   "cell_type": "code",
   "execution_count": 8,
   "id": "golden-greeting",
   "metadata": {},
   "outputs": [
    {
     "name": "stdout",
     "output_type": "stream",
     "text": [
      "1 kick\n",
      "2 know\n",
      "3 wheel\n",
      "4 land\n",
      "5 dream\n",
      "6 mother\n",
      "7 robot\n",
      "8 tank\n"
     ]
    },
    {
     "data": {
      "text/plain": [
       "[3, 3]"
      ]
     },
     "execution_count": 8,
     "metadata": {},
     "output_type": "execute_result"
    }
   ],
   "source": [
    "solution(3, ['tank', 'kick', 'know', 'wheel', 'land', 'dream', 'mother', 'robot', 'tank'])"
   ]
  },
  {
   "cell_type": "markdown",
   "id": "impressive-punch",
   "metadata": {},
   "source": [
    "### 기지국 설치\n",
    "\n"
   ]
  },
  {
   "cell_type": "code",
   "execution_count": 24,
   "id": "blank-testament",
   "metadata": {},
   "outputs": [],
   "source": [
    "def solution(n, stations, w):\n",
    "    answer = 0\n",
    "    dist = w * 2 + 1\n",
    "    now = 0\n",
    "    for s in stations:\n",
    "        # start 지점이 가장 가까운 기지국에서 전파를 전달받지 못하는 상황\n",
    "        if now < s - w:\n",
    "            d = s - w - now\n",
    "            if d % dist == 0:\n",
    "                answer += d//dist \n",
    "            else:\n",
    "                answer += d//dist + 1\n",
    "        now = s + w + 1\n",
    "\n",
    "    if now <= n:\n",
    "        if not (n - now + 1) % dist:\n",
    "            answer += (n - now + 1) // dist\n",
    "        else:\n",
    "            answer += (n - now + 1) // dist + 1\n",
    "    \n",
    "    return answer\n",
    "            \n",
    "            "
   ]
  },
  {
   "cell_type": "code",
   "execution_count": 25,
   "id": "standing-stamp",
   "metadata": {},
   "outputs": [
    {
     "data": {
      "text/plain": [
       "3"
      ]
     },
     "execution_count": 25,
     "metadata": {},
     "output_type": "execute_result"
    }
   ],
   "source": [
    "solution(16, [9], 2)"
   ]
  },
  {
   "cell_type": "code",
   "execution_count": null,
   "id": "optimum-mapping",
   "metadata": {},
   "outputs": [],
   "source": []
  }
 ],
 "metadata": {
  "kernelspec": {
   "display_name": "Python 3",
   "language": "python",
   "name": "python3"
  },
  "language_info": {
   "codemirror_mode": {
    "name": "ipython",
    "version": 3
   },
   "file_extension": ".py",
   "mimetype": "text/x-python",
   "name": "python",
   "nbconvert_exporter": "python",
   "pygments_lexer": "ipython3",
   "version": "3.8.2"
  }
 },
 "nbformat": 4,
 "nbformat_minor": 5
}
