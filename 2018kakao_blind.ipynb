{
 "cells": [
  {
   "cell_type": "markdown",
   "id": "quiet-township",
   "metadata": {},
   "source": [
    "### 뉴스 클러스터링"
   ]
  },
  {
   "cell_type": "code",
   "execution_count": 40,
   "id": "annoying-arnold",
   "metadata": {},
   "outputs": [],
   "source": [
    "from collections import defaultdict\n",
    "def solution(s1, s2):\n",
    "    dict1, dict2 = rearrange(s1), rearrange(s2)\n",
    "    set1, set2 = set(dict1.keys()), set(dict2.keys())\n",
    "    \n",
    "    top = 0\n",
    "    bottom = 0\n",
    "    for x in set1 & set2:\n",
    "        top += min(dict1[x], dict2[x])\n",
    "    for x in set1 | set2:\n",
    "        bottom += max(dict1[x], dict2[x])\n",
    "    \n",
    "    if not bottom:\n",
    "        return 1\n",
    "    else:\n",
    "        return int((top/bottom) * 65536)\n",
    "\n",
    "\n",
    "def rearrange(s):\n",
    "    part_set = defaultdict(int)\n",
    "    for i, letter in enumerate(s):\n",
    "        if i == 0:\n",
    "            continue\n",
    "        if str.isalpha(s[i - 1:i + 1]):\n",
    "            part_set[str.lower(s[i-1:i+1])] += 1\n",
    "        else:\n",
    "            continue\n",
    "\n",
    "    return part_set\n",
    "            "
   ]
  },
  {
   "cell_type": "code",
   "execution_count": 31,
   "id": "mobile-clause",
   "metadata": {},
   "outputs": [
    {
     "data": {
      "text/plain": [
       "defaultdict(int, {'aa': 3})"
      ]
     },
     "execution_count": 31,
     "metadata": {},
     "output_type": "execute_result"
    }
   ],
   "source": [
    "x = \"AAAA12\"\n",
    "rearrange(x)"
   ]
  },
  {
   "cell_type": "code",
   "execution_count": 26,
   "id": "brief-cheese",
   "metadata": {},
   "outputs": [
    {
     "data": {
      "text/plain": [
       "False"
      ]
     },
     "execution_count": 26,
     "metadata": {},
     "output_type": "execute_result"
    }
   ],
   "source": [
    "str.isalpha(\"#d\")"
   ]
  },
  {
   "cell_type": "code",
   "execution_count": 41,
   "id": "prepared-newton",
   "metadata": {},
   "outputs": [
    {
     "data": {
      "text/plain": [
       "16384"
      ]
     },
     "execution_count": 41,
     "metadata": {},
     "output_type": "execute_result"
    }
   ],
   "source": [
    "solution(\"FRANCE\", \"french\")"
   ]
  },
  {
   "cell_type": "markdown",
   "id": "liquid-french",
   "metadata": {},
   "source": [
    "### 추석 트래픽"
   ]
  },
  {
   "cell_type": "code",
   "execution_count": null,
   "id": "handmade-concern",
   "metadata": {},
   "outputs": [],
   "source": [
    "def solution(lines):\n",
    "    answer = 0\n",
    "    return answer"
   ]
  },
  {
   "cell_type": "code",
   "execution_count": null,
   "id": "dangerous-hierarchy",
   "metadata": {},
   "outputs": [],
   "source": []
  },
  {
   "cell_type": "markdown",
   "id": "narrow-reduction",
   "metadata": {},
   "source": [
    "### 셔틀버스"
   ]
  },
  {
   "cell_type": "code",
   "execution_count": 211,
   "id": "otherwise-acquisition",
   "metadata": {},
   "outputs": [],
   "source": [
    "import heapq as h\n",
    "from collections import Counter\n",
    "def solution(n, t, m, tt):\n",
    "    start = \"09:00\"\n",
    "    crew = 0\n",
    "    i = 1\n",
    "    rider = {start: []}\n",
    "    h.heapify(tt)\n",
    "    \n",
    "    print(tt)\n",
    "    while tt and i <= n:\n",
    "        # 해당 시간의 버스에 탑승할 수 있음\n",
    "        if tt[0] <= start and crew < m:\n",
    "            time = h.heappop(tt)\n",
    "            crew += 1\n",
    "            rider[start].append(time)\n",
    "        elif i < n:\n",
    "            start = time_add(start, t)\n",
    "            rider[start] = []\n",
    "            crew = 0\n",
    "            i += 1\n",
    "        else:\n",
    "            i += 1\n",
    "#         print(tt, i)\n",
    "        \n",
    "    print(rider)\n",
    "    last = rider[start]\n",
    "    if len(last) >= m:\n",
    "        answer = time_add(max(last), -1)\n",
    "            \n",
    "    else:\n",
    "        answer = start\n",
    "\n",
    "            \n",
    "    return answer\n",
    "\n",
    "def time_add(string, m):\n",
    "    time = int(string[:2])\n",
    "    minute = int(string[3:])\n",
    "    if minute + m >= 60:\n",
    "        time += 1\n",
    "        minute = minute + m - 60\n",
    "    elif minute + m < 0:\n",
    "        time -= 1\n",
    "        minute = minute + m + 60\n",
    "    else:\n",
    "        minute += m\n",
    "    return str(time).rjust(2, \"0\") + \":\" + str(minute).rjust(2,\"0\")\n"
   ]
  },
  {
   "cell_type": "code",
   "execution_count": 212,
   "id": "quiet-plasma",
   "metadata": {},
   "outputs": [
    {
     "name": "stdout",
     "output_type": "stream",
     "text": [
      "['08:00', '09:09', '09:10']\n",
      "{'09:00': ['08:00'], '09:10': ['09:09', '09:10']}\n"
     ]
    },
    {
     "data": {
      "text/plain": [
       "'09:09'"
      ]
     },
     "execution_count": 212,
     "metadata": {},
     "output_type": "execute_result"
    }
   ],
   "source": [
    "t = [\"09:10\", \"09:09\", \"08:00\"]\n",
    "solution(2,10,2,t)"
   ]
  },
  {
   "cell_type": "code",
   "execution_count": 213,
   "id": "prerequisite-camping",
   "metadata": {},
   "outputs": [
    {
     "name": "stdout",
     "output_type": "stream",
     "text": [
      "['23:59']\n",
      "{'09:00': [], '10:00': [], '11:00': [], '12:00': [], '13:00': [], '14:00': [], '15:00': [], '16:00': [], '17:00': [], '18:00': []}\n"
     ]
    },
    {
     "data": {
      "text/plain": [
       "'18:00'"
      ]
     },
     "execution_count": 213,
     "metadata": {},
     "output_type": "execute_result"
    }
   ],
   "source": [
    "solution(10, 60, 45, [\"23:59\"])"
   ]
  },
  {
   "cell_type": "code",
   "execution_count": 214,
   "id": "illegal-specification",
   "metadata": {},
   "outputs": [
    {
     "name": "stdout",
     "output_type": "stream",
     "text": [
      "['00:01', '00:01', '00:01', '00:01', '00:01']\n",
      "{'09:00': ['00:01', '00:01', '00:01', '00:01', '00:01']}\n"
     ]
    },
    {
     "data": {
      "text/plain": [
       "'00:00'"
      ]
     },
     "execution_count": 214,
     "metadata": {},
     "output_type": "execute_result"
    }
   ],
   "source": [
    "solution(1,1,5,[\"00:01\", \"00:01\", \"00:01\", \"00:01\", \"00:01\"])"
   ]
  },
  {
   "cell_type": "markdown",
   "id": "later-stamp",
   "metadata": {},
   "source": [
    "### 프렌즈 4블록"
   ]
  },
  {
   "cell_type": "code",
   "execution_count": 148,
   "id": "consistent-preparation",
   "metadata": {},
   "outputs": [],
   "source": [
    "def solution(m, n, board):\n",
    "    # 스트링을 리스트로 풀어주기\n",
    "    board = [list(x) for x in board]\n",
    "    answer = 1\n",
    "    answers = 0\n",
    "    \n",
    "    #지워지는 블럭이 없을 때까지\n",
    "    while answer:\n",
    "        answer = 0\n",
    "        block = [] # 지워질 4개 블럭의 가장 첫뻔째 블럭 인덱스 저장\n",
    "        for i in range(m-1):\n",
    "            for j in range(n-1):\n",
    "                if board[i][j] == 'o' or board[i][j] != board[i][j+1]:\n",
    "                    continue\n",
    "                # 2*2 블럭이 같은 모양일 때 그 첫번째 원소를 저장\n",
    "                elif board[i][j:j+2] == board[i+1][j:j+2] and board[i][j+1] != 'o':\n",
    "                    block.append([i, j])\n",
    "        print(block)\n",
    "        for b in block:\n",
    "            #지워질 애들은 x로 바꿔주기\n",
    "            board[b[0]][b[1]:b[1] + 2] = [\"x\", \"x\"]\n",
    "            board[b[0]+ 1][b[1]:b[1] + 2] = [\"x\", \"x\"]\n",
    "        print(board)\n",
    "\n",
    "        new_board = []\n",
    "        for j in range(n):\n",
    "            # 2차원 리스트 Transpose\n",
    "            s = ''.join([board[i][j] for i in range(m)])\n",
    "            answer += s.count('x')\n",
    "            # 지워진 자리를 위에서부터 채우고, 빈 자리는 o로 표시\n",
    "            s = (s.replace('x', '')).rjust(m, 'o')\n",
    "            print(s)\n",
    "            new_board.append(s)\n",
    "        # 다시 transpose해서 재귀 돌리기\n",
    "        board = [[new_board[i][j] for i in range(n)] for j in range(m)] \n",
    "        print(\"answer:\", answer, board)\n",
    "        answers += answer\n",
    "\n",
    "    return answers\n"
   ]
  },
  {
   "cell_type": "code",
   "execution_count": 149,
   "id": "rapid-industry",
   "metadata": {},
   "outputs": [
    {
     "name": "stdout",
     "output_type": "stream",
     "text": [
      "[[1, 0], [1, 4], [2, 1]]\n",
      "[['T', 'T', 'T', 'A', 'N', 'T'], ['x', 'x', 'F', 'A', 'x', 'x'], ['x', 'x', 'x', 'F', 'x', 'x'], ['T', 'x', 'x', 'R', 'A', 'A'], ['T', 'T', 'M', 'M', 'M', 'F'], ['T', 'M', 'M', 'T', 'T', 'J']]\n",
      "ooTTTT\n",
      "oooTTM\n",
      "ooTFMM\n",
      "AAFRMT\n",
      "ooNAMT\n",
      "ooTAFJ\n",
      "answer: 11 [['o', 'o', 'o', 'A', 'o', 'o'], ['o', 'o', 'o', 'A', 'o', 'o'], ['T', 'o', 'T', 'F', 'N', 'T'], ['T', 'T', 'F', 'R', 'A', 'A'], ['T', 'T', 'M', 'M', 'M', 'F'], ['T', 'M', 'M', 'T', 'T', 'J']]\n",
      "[[3, 0]]\n",
      "[['o', 'o', 'o', 'A', 'o', 'o'], ['o', 'o', 'o', 'A', 'o', 'o'], ['T', 'o', 'T', 'F', 'N', 'T'], ['x', 'x', 'F', 'R', 'A', 'A'], ['x', 'x', 'M', 'M', 'M', 'F'], ['T', 'M', 'M', 'T', 'T', 'J']]\n",
      "ooooTT\n",
      "oooooM\n",
      "ooTFMM\n",
      "AAFRMT\n",
      "ooNAMT\n",
      "ooTAFJ\n",
      "answer: 4 [['o', 'o', 'o', 'A', 'o', 'o'], ['o', 'o', 'o', 'A', 'o', 'o'], ['o', 'o', 'T', 'F', 'N', 'T'], ['o', 'o', 'F', 'R', 'A', 'A'], ['T', 'o', 'M', 'M', 'M', 'F'], ['T', 'M', 'M', 'T', 'T', 'J']]\n",
      "[]\n",
      "[['o', 'o', 'o', 'A', 'o', 'o'], ['o', 'o', 'o', 'A', 'o', 'o'], ['o', 'o', 'T', 'F', 'N', 'T'], ['o', 'o', 'F', 'R', 'A', 'A'], ['T', 'o', 'M', 'M', 'M', 'F'], ['T', 'M', 'M', 'T', 'T', 'J']]\n",
      "ooooTT\n",
      "oooooM\n",
      "ooTFMM\n",
      "AAFRMT\n",
      "ooNAMT\n",
      "ooTAFJ\n",
      "answer: 0 [['o', 'o', 'o', 'A', 'o', 'o'], ['o', 'o', 'o', 'A', 'o', 'o'], ['o', 'o', 'T', 'F', 'N', 'T'], ['o', 'o', 'F', 'R', 'A', 'A'], ['T', 'o', 'M', 'M', 'M', 'F'], ['T', 'M', 'M', 'T', 'T', 'J']]\n"
     ]
    },
    {
     "data": {
      "text/plain": [
       "15"
      ]
     },
     "execution_count": 149,
     "metadata": {},
     "output_type": "execute_result"
    }
   ],
   "source": [
    "x = [\"TTTANT\", \"RRFACC\", \"RRRFCC\", \"TRRRAA\", \"TTMMMF\", \"TMMTTJ\"]\n",
    "y = [\"CCBDE\", \"AAADE\", \"AAABF\", \"CCBBF\"]\n",
    "solution(6,6,x)"
   ]
  },
  {
   "cell_type": "code",
   "execution_count": 147,
   "id": "failing-newport",
   "metadata": {},
   "outputs": [
    {
     "data": {
      "text/plain": [
       "\"['T', 'x', 'x', 'T', 'T', 'T']\""
      ]
     },
     "execution_count": 147,
     "metadata": {},
     "output_type": "execute_result"
    }
   ],
   "source": [
    "str(['T', 'x', 'x', 'T', 'T', 'T'])"
   ]
  },
  {
   "cell_type": "code",
   "execution_count": null,
   "id": "understood-violation",
   "metadata": {},
   "outputs": [],
   "source": [
    "\n",
    "\n",
    "def pop_num(b, m, n):\n",
    "    pop_set = set()\n",
    "    # search\n",
    "    for i in range(1, n):\n",
    "        for j in range(1, m):\n",
    "            if b[i][j] == b[i-1][j-1] == b[i-1][j] == b[i][j-1] != '_':\n",
    "                pop_set |= set([(i, j), (i-1, j-1), (i-1, j), (i, j-1)])\n",
    "    print(pop_set)\n",
    "\n",
    "    # set_board\n",
    "    for i, j in pop_set:\n",
    "        b[i][j] = 0 \n",
    " \n",
    "    for i, row in enumerate(b):\n",
    "        empty = ['_'] * row.count(0)\n",
    "        b[i] = empty + [block for block in row if block != 0]\n",
    "        \n",
    "    return len(pop_seet)\n",
    "list(map(list,zip(*board)))"
   ]
  },
  {
   "cell_type": "markdown",
   "id": "ancient-level",
   "metadata": {},
   "source": [
    "### 캐시"
   ]
  },
  {
   "cell_type": "code",
   "execution_count": 224,
   "id": "abandoned-helmet",
   "metadata": {},
   "outputs": [],
   "source": [
    "def solution(size, cities):\n",
    "    cache = []\n",
    "    if size == 0 :\n",
    "        return len(cities) * 5\n",
    "    \n",
    "    answer = 0\n",
    "    for c in [str.lower(x) for x in cities]:\n",
    "        if c in cache:\n",
    "            answer += 1\n",
    "            cache.remove(c)\n",
    "            cache.append(c)\n",
    "        else:\n",
    "            if len(cache) == size:\n",
    "                cache.pop(0)\n",
    "            cache.append(c)\n",
    "            answer += 5\n",
    "    return answer"
   ]
  },
  {
   "cell_type": "code",
   "execution_count": 225,
   "id": "demographic-softball",
   "metadata": {},
   "outputs": [],
   "source": [
    "cities =[\"Jeju\", \"Pangyo\", \"NewYork\", \"newyork\"]"
   ]
  },
  {
   "cell_type": "code",
   "execution_count": 226,
   "id": "introductory-wichita",
   "metadata": {},
   "outputs": [
    {
     "data": {
      "text/plain": [
       "16"
      ]
     },
     "execution_count": 226,
     "metadata": {},
     "output_type": "execute_result"
    }
   ],
   "source": [
    "solution(2, cities )"
   ]
  },
  {
   "cell_type": "code",
   "execution_count": 227,
   "id": "proud-church",
   "metadata": {},
   "outputs": [],
   "source": [
    "### deque를 이용하면 maxlen을 지정할 수 있다\n",
    "def solution(cacheSize, cities):\n",
    "    import collections\n",
    "    cache = collections.deque(maxlen=cacheSize)\n",
    "    time = 0\n",
    "    for i in cities:\n",
    "        s = i.lower()\n",
    "        if s in cache:\n",
    "            cache.remove(s)\n",
    "            cache.append(s)\n",
    "            time += 1\n",
    "        else:\n",
    "            cache.append(s)\n",
    "            time += 5\n",
    "    return time"
   ]
  },
  {
   "cell_type": "markdown",
   "id": "oriental-bradford",
   "metadata": {},
   "source": [
    "### 방금그곡"
   ]
  },
  {
   "cell_type": "code",
   "execution_count": 312,
   "id": "collect-peoples",
   "metadata": {},
   "outputs": [],
   "source": [
    "def solution(m, musicinfos):\n",
    "    musics = []\n",
    "    m = m.replace(\"C#\", \"c\")\n",
    "    m = m.replace(\"D#\", \"d\")\n",
    "    m = m.replace(\"G#\", \"g\")\n",
    "    m = m.replace(\"A#\", \"a\")\n",
    "    m = m.replace(\"F#\", \"f\")\n",
    "    \n",
    "    m_len = len(m) - m.count('#')\n",
    "    for i, music in enumerate(musicinfos):\n",
    "        temp = music.split(',')\n",
    "        # 노래가 재생된 시간 계산\n",
    "        sh, sm = int(temp[0].split(':')[0]), int(temp[0].split(':')[1])\n",
    "        eh, em = int(temp[1].split(':')[0]), int(temp[1].split(':')[1])\n",
    "        minutes = (eh - sh) * 60 + em - sm\n",
    "        #제목\n",
    "        title = temp[2]\n",
    "        #재생된 멜로디에서 # 모두 제거\n",
    "        mel = temp[3].replace(\"C#\", \"c\")\n",
    "        mel = (mel.replace(\"D#\", \"d\")).replace(\"G#\", \"g\")\n",
    "        mel = (mel.replace(\"A#\", \"a\")).replace(\"F#\", \"f\")\n",
    "        \n",
    "        #재생된 멜로디 문자열 구하기\n",
    "        played_melody = mel * (minutes//len(mel)) + mel[:(minutes%len(mel))] \n",
    "#         print(minutes, title, played_melody)\n",
    "        \n",
    "        if m in played_melody:\n",
    "            musics.append([title, minutes, i])\n",
    "#     print(musics)    \n",
    "        \n",
    "    if not musics:\n",
    "        return \"(None)\"\n",
    "    answer = sorted(musics, key= lambda x: (-x[1],x[2]))\n",
    "    return answer[0][0]"
   ]
  },
  {
   "cell_type": "code",
   "execution_count": 313,
   "id": "worse-twins",
   "metadata": {},
   "outputs": [],
   "source": [
    "musics = [\"12:00,12:14,HELLO,C#DEFGAB\", \"13:00,13:05,WORLD,ABCDEF\"]"
   ]
  },
  {
   "cell_type": "code",
   "execution_count": 314,
   "id": "complex-demonstration",
   "metadata": {},
   "outputs": [
    {
     "data": {
      "text/plain": [
       "'WORLD'"
      ]
     },
     "execution_count": 314,
     "metadata": {},
     "output_type": "execute_result"
    }
   ],
   "source": [
    "solution(\"ABC\", musics)"
   ]
  },
  {
   "cell_type": "code",
   "execution_count": null,
   "id": "fiscal-rolling",
   "metadata": {},
   "outputs": [],
   "source": [
    "# replace 여러번 하지 말고 함수로 고쳐보기\n",
    "def con(s):\n",
    "    while s.find(\"#\") != -1:\n",
    "        a = s.find(\"#\")\n",
    "        s = s[:a - 1] + s[a - 1].lower() + s[a + 1:]\n",
    "    return s"
   ]
  }
 ],
 "metadata": {
  "kernelspec": {
   "display_name": "Python 3",
   "language": "python",
   "name": "python3"
  },
  "language_info": {
   "codemirror_mode": {
    "name": "ipython",
    "version": 3
   },
   "file_extension": ".py",
   "mimetype": "text/x-python",
   "name": "python",
   "nbconvert_exporter": "python",
   "pygments_lexer": "ipython3",
   "version": "3.8.2"
  }
 },
 "nbformat": 4,
 "nbformat_minor": 5
}
