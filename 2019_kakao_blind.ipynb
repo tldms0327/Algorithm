{
 "cells": [
  {
   "cell_type": "markdown",
   "id": "unable-steel",
   "metadata": {},
   "source": [
    "### 오픈채팅방"
   ]
  },
  {
   "cell_type": "code",
   "execution_count": 1,
   "id": "imposed-lottery",
   "metadata": {},
   "outputs": [],
   "source": [
    "def solution(record):\n",
    "    names = dict()\n",
    "    for r in record:\n",
    "        line = r.split(\" \")\n",
    "        if line[0] != \"Leave\":\n",
    "            names[line[1]] = line[2]\n",
    "            \n",
    "    answer = []\n",
    "    for r in record:\n",
    "        line = r.split(\" \")\n",
    "        if line[0] == \"Enter\":\n",
    "            answer.append(f\"{names[line[1]]}님이 들어왔습니다.\")\n",
    "        elif line[0] == \"Leave\":\n",
    "            answer.append(f\"{names[line[1]]}님이 나갔습니다.\")\n",
    "    \n",
    "    return answer"
   ]
  },
  {
   "cell_type": "markdown",
   "id": "ranging-performer",
   "metadata": {},
   "source": [
    "### 후보키"
   ]
  },
  {
   "cell_type": "code",
   "execution_count": 3,
   "id": "hungry-christianity",
   "metadata": {},
   "outputs": [],
   "source": [
    "relation = [[\"100\",\"ryan\",\"music\",\"2\"],[\"200\",\"apeach\",\"math\",\"2\"],[\"300\",\"tube\",\"computer\",\"3\"],[\"400\",\"con\",\"computer\",\"4\"],[\"500\",\"muzi\",\"music\",\"3\"],[\"600\",\"apeach\",\"music\",\"2\"]]\t"
   ]
  },
  {
   "cell_type": "code",
   "execution_count": 4,
   "id": "major-might",
   "metadata": {},
   "outputs": [],
   "source": [
    "def solution(relation):\n",
    "    return 0"
   ]
  },
  {
   "cell_type": "code",
   "execution_count": 16,
   "id": "median-assurance",
   "metadata": {},
   "outputs": [
    {
     "data": {
      "text/plain": [
       "[{'100', '200', '300', '400', '500', '600'},\n",
       " {'apeach', 'con', 'muzi', 'ryan', 'tube'},\n",
       " {'computer', 'math', 'music'},\n",
       " {'2', '3', '4'}]"
      ]
     },
     "execution_count": 16,
     "metadata": {},
     "output_type": "execute_result"
    }
   ],
   "source": [
    "list(map(set, zip(*relation)))"
   ]
  },
  {
   "cell_type": "code",
   "execution_count": null,
   "id": "promising-elimination",
   "metadata": {},
   "outputs": [],
   "source": [
    "\n"
   ]
  }
 ],
 "metadata": {
  "kernelspec": {
   "display_name": "Python 3",
   "language": "python",
   "name": "python3"
  },
  "language_info": {
   "codemirror_mode": {
    "name": "ipython",
    "version": 3
   },
   "file_extension": ".py",
   "mimetype": "text/x-python",
   "name": "python",
   "nbconvert_exporter": "python",
   "pygments_lexer": "ipython3",
   "version": "3.8.2"
  }
 },
 "nbformat": 4,
 "nbformat_minor": 5
}
